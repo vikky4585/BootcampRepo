{
 "cells": [
  {
   "cell_type": "code",
   "execution_count": 1,
   "metadata": {},
   "outputs": [],
   "source": [
    "from bs4 import BeautifulSoup as bs\n",
    "import re\n",
    "import requests\n",
    "import pandas as pd\n",
    "from splinter import Browser\n"
   ]
  },
  {
   "cell_type": "code",
   "execution_count": 2,
   "metadata": {},
   "outputs": [],
   "source": [
    "def prepareSoup(url):\n",
    "    html = requests.get(url)\n",
    "    soup = bs(html.text, 'html.parser')\n",
    "    return soup"
   ]
  },
  {
   "cell_type": "code",
   "execution_count": 3,
   "metadata": {},
   "outputs": [],
   "source": [
    "def openBrowser(url):\n",
    "    !which chromedriver\n",
    "    executable_path = {'executable_path': '/usr/local/bin/chromedriver'}\n",
    "    browser = Browser('chrome', **executable_path, headless=False)\n",
    "    browser.visit(url)\n",
    "    return browser\n",
    "    "
   ]
  },
  {
   "cell_type": "code",
   "execution_count": 4,
   "metadata": {},
   "outputs": [],
   "source": [
    "soup = prepareSoup('https://mars.nasa.gov/news/')\n",
    "news_p = soup.findAll('div', class_='rollover_description_inner')[0].text.strip()\n",
    "news_title = soup.findAll('div', class_='content_title')[0].find('a').text.strip()\n"
   ]
  },
  {
   "cell_type": "code",
   "execution_count": 5,
   "metadata": {},
   "outputs": [
    {
     "name": "stdout",
     "output_type": "stream",
     "text": [
      "/usr/local/bin/chromedriver\r\n"
     ]
    }
   ],
   "source": [
    "#JPL Mars Space Images\n",
    "browser = openBrowser('https://www.jpl.nasa.gov/spaceimages/?search=&category=Mars')\n",
    "ele = browser.find_by_id('full_image')\n",
    "ele.click()\n",
    "soup = bs(browser.html,'html.parser')\n",
    "details = soup.findAll('a',class_='button fancybox')[0].attrs\n",
    "featured_image_url = 'https://www.jpl.nasa.gov' + details['data-fancybox-href']\n"
   ]
  },
  {
   "cell_type": "code",
   "execution_count": 6,
   "metadata": {},
   "outputs": [
    {
     "name": "stdout",
     "output_type": "stream",
     "text": [
      "Sol 2171 (2018-09-14), high -12C/10F, low -65C/-84F, pressure at 8.79 hPa, daylight 05:43-17:59\n"
     ]
    }
   ],
   "source": [
    "soup = prepareSoup('https://twitter.com/marswxreport?lang=en')\n",
    "divs = soup.findAll('div',class_='js-tweet-text-container')\n",
    "for div in divs:\n",
    "    txt = div.find('p').text\n",
    "    if(txt.startswith('Sol')):\n",
    "        weather = txt\n",
    "        break\n",
    "\n",
    "print(weather)\n",
    "        \n",
    "    "
   ]
  },
  {
   "cell_type": "code",
   "execution_count": 7,
   "metadata": {},
   "outputs": [
    {
     "data": {
      "text/html": [
       "<div>\n",
       "<style scoped>\n",
       "    .dataframe tbody tr th:only-of-type {\n",
       "        vertical-align: middle;\n",
       "    }\n",
       "\n",
       "    .dataframe tbody tr th {\n",
       "        vertical-align: top;\n",
       "    }\n",
       "\n",
       "    .dataframe thead th {\n",
       "        text-align: right;\n",
       "    }\n",
       "</style>\n",
       "<table border=\"1\" class=\"dataframe\">\n",
       "  <thead>\n",
       "    <tr style=\"text-align: right;\">\n",
       "      <th></th>\n",
       "      <th>Equatorial Diameter</th>\n",
       "      <th>First Record</th>\n",
       "      <th>Mass</th>\n",
       "      <th>Moons</th>\n",
       "      <th>Orbit Distance</th>\n",
       "      <th>Orbit Period</th>\n",
       "      <th>Polar Diameter</th>\n",
       "      <th>Surface Temperature</th>\n",
       "    </tr>\n",
       "  </thead>\n",
       "  <tbody>\n",
       "    <tr>\n",
       "      <th>0</th>\n",
       "      <td>6,792 km\\n</td>\n",
       "      <td>2nd millennium BC</td>\n",
       "      <td>6.42 x 10^23 kg (10.7% Earth)</td>\n",
       "      <td>2 (Phobos &amp; Deimos)</td>\n",
       "      <td>227,943,824 km (1.52 AU)</td>\n",
       "      <td>687 days (1.9 years)\\n</td>\n",
       "      <td>6,752 km\\n</td>\n",
       "      <td>-153 to 20 °C</td>\n",
       "    </tr>\n",
       "  </tbody>\n",
       "</table>\n",
       "</div>"
      ],
      "text/plain": [
       "  Equatorial Diameter       First Record                           Mass  \\\n",
       "0          6,792 km\\n  2nd millennium BC  6.42 x 10^23 kg (10.7% Earth)   \n",
       "\n",
       "                 Moons            Orbit Distance            Orbit Period  \\\n",
       "0  2 (Phobos & Deimos)  227,943,824 km (1.52 AU)  687 days (1.9 years)\\n   \n",
       "\n",
       "  Polar Diameter Surface Temperature   \n",
       "0     6,752 km\\n        -153 to 20 °C  "
      ]
     },
     "execution_count": 7,
     "metadata": {},
     "output_type": "execute_result"
    }
   ],
   "source": [
    "soup = prepareSoup('https://space-facts.com/mars/')\n",
    "values = soup.findAll('table')[0].findAll('td', class_='column-1')\n",
    "details = {}\n",
    "for x in range(len(values)-1):\n",
    "    k = values[x].find('strong').text.replace(':','')\n",
    "    v = soup.findAll('table')[0].findAll('td', class_='column-2')[x].text\n",
    "    details[k] = v\n",
    "\n",
    "    \n",
    "df = pd.DataFrame([details])\n",
    "\n",
    "df"
   ]
  },
  {
   "cell_type": "code",
   "execution_count": 8,
   "metadata": {},
   "outputs": [],
   "source": [
    "table_df = df.to_html(index=False)"
   ]
  },
  {
   "cell_type": "code",
   "execution_count": 9,
   "metadata": {},
   "outputs": [],
   "source": [
    "#browser = openBrowser('https://astrogeology.usgs.gov/search/results?q=hemisphere+enhanced&k1=target&v1=Mars')\n",
    "#items = browser.find_by_xpath('//div[@class=\\'item\\']')\n",
    "#items[0].click()"
   ]
  },
  {
   "cell_type": "code",
   "execution_count": 10,
   "metadata": {},
   "outputs": [
    {
     "data": {
      "text/plain": [
       "[{'title': 'Cerberus Hemisphere Enhanced',\n",
       "  'img_url': 'http://astropedia.astrogeology.usgs.gov/download/Mars/Viking/cerberus_enhanced.tif/full.jpg'},\n",
       " {'title': 'Schiaparelli Hemisphere Enhanced',\n",
       "  'img_url': 'http://astropedia.astrogeology.usgs.gov/download/Mars/Viking/schiaparelli_enhanced.tif/full.jpg'},\n",
       " {'title': 'Syrtis Major Hemisphere Enhanced',\n",
       "  'img_url': 'http://astropedia.astrogeology.usgs.gov/download/Mars/Viking/syrtis_major_enhanced.tif/full.jpg'},\n",
       " {'title': 'Valles Marineris Hemisphere Enhanced',\n",
       "  'img_url': 'http://astropedia.astrogeology.usgs.gov/download/Mars/Viking/valles_marineris_enhanced.tif/full.jpg'}]"
      ]
     },
     "execution_count": 10,
     "metadata": {},
     "output_type": "execute_result"
    }
   ],
   "source": [
    "# Splinter click not working, using beasutiful soup approach\n",
    "soup = prepareSoup('https://astrogeology.usgs.gov/search/results?q=hemisphere+enhanced&k1=target&v1=Mars')\n",
    "divs = soup.find_all('div',class_='item')\n",
    "base_url = 'https://astrogeology.usgs.gov'\n",
    "img_list = []\n",
    "for div in divs:\n",
    "    img_details = {}\n",
    "    img_url = div.find('a')['href']\n",
    "    int_soup = prepareSoup(base_url + img_url)\n",
    "    img_details['title'] = int_soup.find('h2',class_='title').text\n",
    "    img_details['img_url'] = int_soup.find_all('a',{'target':'_blank'})[0]['href']\n",
    "    img_list.append(img_details)\n",
    "    \n",
    "img_list"
   ]
  },
  {
   "cell_type": "code",
   "execution_count": null,
   "metadata": {},
   "outputs": [],
   "source": []
  },
  {
   "cell_type": "code",
   "execution_count": null,
   "metadata": {},
   "outputs": [],
   "source": []
  }
 ],
 "metadata": {
  "kernelspec": {
   "display_name": "Python 3",
   "language": "python",
   "name": "python3"
  },
  "language_info": {
   "codemirror_mode": {
    "name": "ipython",
    "version": 3
   },
   "file_extension": ".py",
   "mimetype": "text/x-python",
   "name": "python",
   "nbconvert_exporter": "python",
   "pygments_lexer": "ipython3",
   "version": "3.6.5"
  }
 },
 "nbformat": 4,
 "nbformat_minor": 2
}
