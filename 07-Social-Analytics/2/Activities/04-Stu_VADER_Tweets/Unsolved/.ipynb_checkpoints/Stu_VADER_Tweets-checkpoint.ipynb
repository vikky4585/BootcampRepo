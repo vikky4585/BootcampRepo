{
 "cells": [
  {
   "cell_type": "code",
   "execution_count": 1,
   "metadata": {},
   "outputs": [],
   "source": [
    "# Dependencies\n",
    "import tweepy\n",
    "import numpy as np\n",
    "\n",
    "# Import and Initialize Sentiment Analyzer\n",
    "from vaderSentiment.vaderSentiment import SentimentIntensityAnalyzer\n",
    "analyzer = SentimentIntensityAnalyzer()\n",
    "\n",
    "# Twitter API Keys\n",
    "from config import (consumer_key,\n",
    "                    consumer_secret,\n",
    "                    access_token,\n",
    "                    access_token_secret)\n",
    "\n",
    "# Setup Tweepy API Authentication\n",
    "auth = tweepy.OAuthHandler(consumer_key, consumer_secret)\n",
    "auth.set_access_token(access_token, access_token_secret)\n",
    "api = tweepy.API(auth, parser=tweepy.parsers.JSONParser())"
   ]
  },
  {
   "cell_type": "code",
   "execution_count": 3,
   "metadata": {},
   "outputs": [],
   "source": [
    "# Target User Account\n",
    "target_user = \"@DalaiLama\"\n",
    "\n",
    "# Variables for holding sentiments\n",
    "compound_list = []\n",
    "positive_list = []\n",
    "negative_list = []\n",
    "neutral_list = []\n",
    "\n",
    "# Loop through 10 pages of tweets (total 200 tweets)\n",
    "for x in range(1, 11):\n",
    "\n",
    "    # Get all tweets from home feed\n",
    "    # YOUR CODE HERE\n",
    "    public_tweets = api.user_timeline(target_user, page=x)\n",
    "    # Loop through all tweets\n",
    "    for tweet in public_tweets:\n",
    "\n",
    "        # Run Vader Analysis on each tweet\n",
    "        # YOUR CODE HERE\n",
    "        scores = analyzer.polarity_scores(tweet['text'])\n",
    "        # Add each value to the appropriate list\n",
    "        # YOUR CODE HERE\n",
    "        compound_list.append(scores['compound'])\n",
    "        positive_list.append(scores['pos'])\n",
    "        negative_list.append(scores['neg'])\n",
    "        neutral_list.append(scores['neu'])\n",
    "        "
   ]
  },
  {
   "cell_type": "code",
   "execution_count": 4,
   "metadata": {},
   "outputs": [
    {
     "name": "stdout",
     "output_type": "stream",
     "text": [
      "User: @DalaiLama\n",
      "Compound: 0.454\n",
      "Positive: 0.248\n",
      "Neutral: 0.694\n",
      "Negative: 0.058\n"
     ]
    }
   ],
   "source": [
    "# Print the Averages\n",
    "print(f\"User: {target_user}\")\n",
    "print(f\"Compound: {np.mean(compound_list):.3f}\")\n",
    "print(f\"Positive: {np.mean(positive_list):.3f}\")\n",
    "print(f\"Neutral: {np.mean(neutral_list):.3f}\")\n",
    "print(f\"Negative: {np.mean(negative_list):.3f}\")"
   ]
  },
  {
   "cell_type": "code",
   "execution_count": null,
   "metadata": {},
   "outputs": [],
   "source": []
  }
 ],
 "metadata": {
  "kernelspec": {
   "display_name": "Python 3",
   "language": "python",
   "name": "python3"
  },
  "language_info": {
   "codemirror_mode": {
    "name": "ipython",
    "version": 3
   },
   "file_extension": ".py",
   "mimetype": "text/x-python",
   "name": "python",
   "nbconvert_exporter": "python",
   "pygments_lexer": "ipython3",
   "version": "3.6.5"
  },
  "varInspector": {
   "cols": {
    "lenName": 16,
    "lenType": 16,
    "lenVar": 40
   },
   "kernels_config": {
    "python": {
     "delete_cmd_postfix": "",
     "delete_cmd_prefix": "del ",
     "library": "var_list.py",
     "varRefreshCmd": "print(var_dic_list())"
    },
    "r": {
     "delete_cmd_postfix": ") ",
     "delete_cmd_prefix": "rm(",
     "library": "var_list.r",
     "varRefreshCmd": "cat(var_dic_list()) "
    }
   },
   "types_to_exclude": [
    "module",
    "function",
    "builtin_function_or_method",
    "instance",
    "_Feature"
   ],
   "window_display": false
  }
 },
 "nbformat": 4,
 "nbformat_minor": 2
}
