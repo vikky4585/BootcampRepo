{
 "cells": [
  {
   "cell_type": "code",
   "execution_count": 1,
   "metadata": {
    "collapsed": true
   },
   "outputs": [],
   "source": [
    "# Dependencies\n",
    "import tweepy\n",
    "import numpy as np\n",
    "\n",
    "\n",
    "# Twitter API Keys\n",
    "from config import (consumer_key,\n",
    "                    consumer_secret,\n",
    "                    access_token,\n",
    "                    access_token_secret)\n",
    "\n",
    "# Setup Tweepy API Authentication\n",
    "auth = tweepy.OAuthHandler(consumer_key, consumer_secret)\n",
    "auth.set_access_token(access_token, access_token_secret)\n",
    "api = tweepy.API(auth, parser=tweepy.parsers.JSONParser())"
   ]
  },
  {
   "cell_type": "code",
   "execution_count": 2,
   "metadata": {},
   "outputs": [
    {
     "name": "stdout",
     "output_type": "stream",
     "text": [
      "rosegoldwhisper\n",
      "RT @nbcwiII: mark hamill, kelly marie tran and oscar isaac getting together to give the lgbt+ community all their support https://t.co/EV5g…\n",
      "\n",
      "chotton3696\n",
      "RT @nbcwiII: mark hamill, kelly marie tran and oscar isaac getting together to give the lgbt+ community all their support https://t.co/EV5g…\n",
      "\n",
      "JCharlesHarris\n",
      "@samgslastlife @WesBrawner @LastLivesPod I desperately had to play Wing Commander 3 if for no other reason than Mar… https://t.co/OvQ5d1KqHj\n",
      "\n",
      "SaulKorman\n",
      "#NewAtKorrys ~ ties, jackets, and shirts from the Italian brand #ZZegna.\n",
      "Worn by stars like Mark Hamill and Dev Pat… https://t.co/1iQ6Ub7IYe\n",
      "\n",
      "KorrysClothiers\n",
      "#NewAtKorrys ~ ties, jackets, and shirts from the Italian brand #ZZegna.\n",
      "Worn by stars like Mark Hamill and Dev Pat… https://t.co/hAqZ3Onjng\n",
      "\n",
      "dykekin\n",
      "RT @nbcwiII: mark hamill, kelly marie tran and oscar isaac getting together to give the lgbt+ community all their support https://t.co/EV5g…\n",
      "\n",
      "Cheypowellstew\n",
      "RT @nbcwiII: mark hamill, kelly marie tran and oscar isaac getting together to give the lgbt+ community all their support https://t.co/EV5g…\n",
      "\n",
      "hey_youngbloods\n",
      "RT @nbcwiII: mark hamill, kelly marie tran and oscar isaac getting together to give the lgbt+ community all their support https://t.co/EV5g…\n",
      "\n",
      "appison\n",
      "RT @nbcwiII: mark hamill, kelly marie tran and oscar isaac getting together to give the lgbt+ community all their support https://t.co/EV5g…\n",
      "\n",
      "AfterLastJedi\n",
      "RT @cozaya: “They had time for me to milk that big alien but to show any human emotion? Nah, we don't have time for that. But again it's no…\n",
      "\n",
      "og_diq\n",
      "RT @nbcwiII: mark hamill, kelly marie tran and oscar isaac getting together to give the lgbt+ community all their support https://t.co/EV5g…\n",
      "\n",
      "LGwNate\n",
      "I liked a @YouTube video https://t.co/Y291iGRqQI Mark Hamill Reveals George Lucas’ Star Wars: Episode IX Ending\n",
      "\n",
      "gothbartsimpson\n",
      "RT @nbcwiII: mark hamill, kelly marie tran and oscar isaac getting together to give the lgbt+ community all their support https://t.co/EV5g…\n",
      "\n",
      "Debbie_Lovett1\n",
      "RT @nbcwiII: mark hamill, kelly marie tran and oscar isaac getting together to give the lgbt+ community all their support https://t.co/EV5g…\n",
      "\n",
      "febrezeyeezy\n",
      "RT @thespcbot: the shitpost council worships mark hamill\n",
      "\n",
      "L9McG\n",
      "@ChrisEvans you leaving captain America is like mark hamill leaving Luke...cannot happen.  SAY IT ISN'T SO.\n",
      "\n",
      "Cammy931\n",
      "RT @nbcwiII: mark hamill, kelly marie tran and oscar isaac getting together to give the lgbt+ community all their support https://t.co/EV5g…\n",
      "\n",
      "BrandyJ78124269\n",
      "RT @TheMarySue: Mark Hamill Is on the Right Side of History on the Worst #StarWars Special Edition Change\n",
      "\n",
      "https://t.co/tFBqRd7l4E https://…\n",
      "\n",
      "RainDripDrops\n",
      "RT @nbcwiII: mark hamill, kelly marie tran and oscar isaac getting together to give the lgbt+ community all their support https://t.co/EV5g…\n",
      "\n",
      "SmokeTrumps\n",
      "@2ndruntv @HamillHimself Exactly. Luke is truly dead. Star Wars is dead. Mark Hamill is an idiot. What a waste and shame. Truly disgraceful.\n",
      "\n",
      "6ad1bad7e9c148f\n",
      "RT @HamillHimself: Thanks to everyone on The View for listening to all my crackpot theories with a straight face &amp; treating me like \"royalt…\n",
      "\n",
      "Stoner_Sparkles\n",
      "RT @nbcwiII: mark hamill, kelly marie tran and oscar isaac getting together to give the lgbt+ community all their support https://t.co/EV5g…\n",
      "\n",
      "thhetruthh\n",
      "RT @nbcwiII: mark hamill, kelly marie tran and oscar isaac getting together to give the lgbt+ community all their support https://t.co/EV5g…\n",
      "\n",
      "Thorntongifts\n",
      "Mark Hamill - Doing the Jake SJW - REAL NEO (FULL COMEDY)1080p HD v.3 Dy... https://t.co/5u23VkTaFj via @YouTube\n",
      "\n",
      "wizardkinz\n",
      "RT @nbcwiII: mark hamill, kelly marie tran and oscar isaac getting together to give the lgbt+ community all their support https://t.co/EV5g…\n",
      "\n",
      "LandinoEmily\n",
      "RT @nbcwiII: mark hamill, kelly marie tran and oscar isaac getting together to give the lgbt+ community all their support https://t.co/EV5g…\n",
      "\n",
      "aIexandravevo\n",
      "RT @nbcwiII: mark hamill, kelly marie tran and oscar isaac getting together to give the lgbt+ community all their support https://t.co/EV5g…\n",
      "\n",
      "TheRonenverse\n",
      "RT @nbcwiII: mark hamill, kelly marie tran and oscar isaac getting together to give the lgbt+ community all their support https://t.co/EV5g…\n",
      "\n",
      "skysoloabba\n",
      "\"WHEN mark hamill exists\" https://t.co/jgHvfzd9UW\n",
      "\n",
      "reinalyssaz\n",
      "RT @nbcwiII: mark hamill, kelly marie tran and oscar isaac getting together to give the lgbt+ community all their support https://t.co/EV5g…\n",
      "\n",
      "meep0427\n",
      "RT @nbcwiII: mark hamill, kelly marie tran and oscar isaac getting together to give the lgbt+ community all their support https://t.co/EV5g…\n",
      "\n",
      "DiamondCalibre\n",
      "RT @COMPLETEANAR: Wow, Mark Hamill really got more radical https://t.co/kaGnNnGjFk\n",
      "\n",
      "thespcbot\n",
      "@thanoswife the shitpost council cries when mark hamill exists.\n",
      "\n",
      "beddegg\n",
      "RT @nbcwiII: mark hamill, kelly marie tran and oscar isaac getting together to give the lgbt+ community all their support https://t.co/EV5g…\n",
      "\n",
      "rowbo26\n",
      "RT @nbcwiII: mark hamill, kelly marie tran and oscar isaac getting together to give the lgbt+ community all their support https://t.co/EV5g…\n",
      "\n"
     ]
    }
   ],
   "source": [
    "# Search for People Tweeting about Mark Hamill\n",
    "search_term = \"Mark Hamill\"\n",
    "\n",
    "# \"Real Person\" Filters\n",
    "min_tweets = 5\n",
    "max_tweets = 10000\n",
    "max_followers = 2500\n",
    "max_following = 2500\n",
    "lang = \"en\"\n",
    "\n",
    "# List of Eligible Tweets\n",
    "tweet_list = []\n",
    "\n",
    "# Retrieve 100 tweets\n",
    "public_tweets = api.search(search_term, count=100)\n",
    "\n",
    "# Print Tweets\n",
    "for tweet in public_tweets[\"statuses\"]:\n",
    "\n",
    "    # Use filters to check if user meets conditions\n",
    "    if (tweet[\"user\"][\"followers_count\"] < max_followers and\n",
    "        tweet[\"user\"][\"statuses_count\"] > min_tweets and\n",
    "        tweet[\"user\"][\"statuses_count\"] < max_tweets and\n",
    "        tweet[\"user\"][\"friends_count\"] < max_following and\n",
    "        tweet[\"user\"][\"lang\"] == lang):\n",
    "\n",
    "        # If so add the user's tweet to the list (for future use)\n",
    "        tweet_list.append(tweet[\"text\"])\n",
    "\n",
    "        # Print the username\n",
    "        print(tweet[\"user\"][\"screen_name\"])\n",
    "\n",
    "        # Print the tweet text\n",
    "        print(tweet[\"text\"])\n",
    "        print()"
   ]
  },
  {
   "cell_type": "code",
   "execution_count": 3,
   "metadata": {},
   "outputs": [
    {
     "name": "stdout",
     "output_type": "stream",
     "text": [
      "35\n"
     ]
    }
   ],
   "source": [
    "# Print total number of \"Real\" tweets\n",
    "print(len(tweet_list))"
   ]
  }
 ],
 "metadata": {
  "kernelspec": {
   "display_name": "Python 3",
   "language": "python",
   "name": "python3"
  },
  "language_info": {
   "codemirror_mode": {
    "name": "ipython",
    "version": 3
   },
   "file_extension": ".py",
   "mimetype": "text/x-python",
   "name": "python",
   "nbconvert_exporter": "python",
   "pygments_lexer": "ipython3",
   "version": "3.6.5"
  },
  "varInspector": {
   "cols": {
    "lenName": 16,
    "lenType": 16,
    "lenVar": 40
   },
   "kernels_config": {
    "python": {
     "delete_cmd_postfix": "",
     "delete_cmd_prefix": "del ",
     "library": "var_list.py",
     "varRefreshCmd": "print(var_dic_list())"
    },
    "r": {
     "delete_cmd_postfix": ") ",
     "delete_cmd_prefix": "rm(",
     "library": "var_list.r",
     "varRefreshCmd": "cat(var_dic_list()) "
    }
   },
   "types_to_exclude": [
    "module",
    "function",
    "builtin_function_or_method",
    "instance",
    "_Feature"
   ],
   "window_display": false
  }
 },
 "nbformat": 4,
 "nbformat_minor": 2
}
