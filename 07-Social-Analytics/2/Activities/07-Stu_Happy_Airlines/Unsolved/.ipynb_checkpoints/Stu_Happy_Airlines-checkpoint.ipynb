{
 "cells": [
  {
   "cell_type": "code",
   "execution_count": 2,
   "metadata": {},
   "outputs": [],
   "source": [
    "# Dependencies\n",
    "import tweepy\n",
    "import numpy as np\n",
    "import pandas as pd\n",
    "\n",
    "# Import and Initialize Sentiment Analyzer\n",
    "from vaderSentiment.vaderSentiment import SentimentIntensityAnalyzer\n",
    "analyzer = SentimentIntensityAnalyzer()\n",
    "\n",
    "# Twitter API Keys\n",
    "from config import (consumer_key, \n",
    "                    consumer_secret, \n",
    "                    access_token, \n",
    "                    access_token_secret)\n",
    "\n",
    "# Setup Tweepy API Authentication\n",
    "auth = tweepy.OAuthHandler(consumer_key, consumer_secret)\n",
    "auth.set_access_token(access_token, access_token_secret)\n",
    "api = tweepy.API(auth, parser=tweepy.parsers.JSONParser())"
   ]
  },
  {
   "cell_type": "code",
   "execution_count": null,
   "metadata": {
    "collapsed": true
   },
   "outputs": [],
   "source": [
    "# Target Search Term\n",
    "target_terms = (\"@SouthwestAir\", \"@AmericanAir\", \"@SpiritAirlines\",\n",
    "                \"@Virginatlantic\", \"@Delta\", \"@AlaskaAir\", \"@KLM\")\n",
    "\n",
    "# \"Real Person\" Filters\n",
    "min_tweets = 5\n",
    "max_tweets = 10000\n",
    "max_followers = 2500\n",
    "max_following = 2500\n",
    "lang = \"en\"\n",
    "\n",
    "# List to hold sentiment\n",
    "results_list = []\n",
    "\n",
    "# Loop through all target users\n",
    "for target in target_terms:\n",
    "\n",
    "    # Variable for holding the oldest tweet\n",
    "    oldest_tweet = None\n",
    "\n",
    "    # Variables for holding sentiments\n",
    "    compound_list = []\n",
    "    positive_list = []\n",
    "    negative_list = []\n",
    "    neutral_list = []\n",
    "\n",
    "    # Loop through 10 times\n",
    "    for x in range(10):\n",
    "\n",
    "        # Run search around each tweet\n",
    "        # YOUR CODE HERE\n",
    "        public_tweets = api.search(target,count = 100,result_type='recent',max_id=oldest_tweet)\n",
    "        # Loop through all tweets\n",
    "        for tweet in public_tweets[\"statuses\"]:\n",
    "\n",
    "            # Use filters to check if user meets conditions\n",
    "            # YOUR CODE HERE\n",
    "            if(tweet['user']['followers_count'] < max_followers and\n",
    "              tweet['user']['friends_count'] < max_following and\n",
    "              tweet['user']['statuses_count'] < max_tweets and\n",
    "              tweet['user']['statuses_count'] > min_tweets and\n",
    "              tweet['user']['lang'] > lang):\n",
    "\n",
    "                # Run Vader Analysis on each tweet\n",
    "                # YOUR CODE HERE\n",
    "                analysis = analyzer.polarity_scores(tweet['text'])\n",
    "                compound_list.append(analysis['compound'])\n",
    "                positive_list.append(analysis['pos'])\n",
    "                negative_list.append(analysis['neg'])\n",
    "                neutral_list.append(analysis['neu'])\n",
    "                # Add each value to the appropriate list\n",
    "                # YOUR CODE HERE\n",
    "                \n",
    "            # Set the new oldest_tweet value\n",
    "            oldest_tweet = tweet[\"id\"] - 1\n",
    "\n",
    "    # Create a dictionary of the Average Sentiments\n",
    "    # YOUR CODE HERE\n",
    "    \n",
    "    # Print the Sentiments\n",
    "    print(sentiment)\n",
    "    print()\n",
    "    \n",
    "    # Append the dictionary to results_list"
   ]
  },
  {
   "cell_type": "code",
   "execution_count": null,
   "metadata": {
    "collapsed": true
   },
   "outputs": [],
   "source": [
    "# Create a DataFrame using results_list and display"
   ]
  }
 ],
 "metadata": {
  "kernelspec": {
   "display_name": "Python 3",
   "language": "python",
   "name": "python3"
  },
  "language_info": {
   "codemirror_mode": {
    "name": "ipython",
    "version": 3
   },
   "file_extension": ".py",
   "mimetype": "text/x-python",
   "name": "python",
   "nbconvert_exporter": "python",
   "pygments_lexer": "ipython3",
   "version": "3.6.5"
  },
  "varInspector": {
   "cols": {
    "lenName": 16,
    "lenType": 16,
    "lenVar": 40
   },
   "kernels_config": {
    "python": {
     "delete_cmd_postfix": "",
     "delete_cmd_prefix": "del ",
     "library": "var_list.py",
     "varRefreshCmd": "print(var_dic_list())"
    },
    "r": {
     "delete_cmd_postfix": ") ",
     "delete_cmd_prefix": "rm(",
     "library": "var_list.r",
     "varRefreshCmd": "cat(var_dic_list()) "
    }
   },
   "types_to_exclude": [
    "module",
    "function",
    "builtin_function_or_method",
    "instance",
    "_Feature"
   ],
   "window_display": false
  }
 },
 "nbformat": 4,
 "nbformat_minor": 2
}
