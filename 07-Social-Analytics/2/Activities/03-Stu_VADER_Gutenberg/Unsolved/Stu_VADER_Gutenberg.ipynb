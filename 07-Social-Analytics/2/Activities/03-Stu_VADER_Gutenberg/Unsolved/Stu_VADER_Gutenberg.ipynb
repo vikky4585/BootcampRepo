{
 "cells": [
  {
   "cell_type": "code",
   "execution_count": 1,
   "metadata": {},
   "outputs": [],
   "source": [
    "# Import and Initialize Sentiment Analyzer\n",
    "from vaderSentiment.vaderSentiment import SentimentIntensityAnalyzer\n",
    "analyzer = SentimentIntensityAnalyzer()"
   ]
  },
  {
   "cell_type": "code",
   "execution_count": 26,
   "metadata": {},
   "outputs": [],
   "source": [
    "# Placeholder for sample text\n",
    "sample1 = (\"Ugh. I am feeling so distraught! \"\n",
    "           \"I hate everything. \"\n",
    "           \"I am mad at everyone.\")\n",
    "sample2 = \"hahahaha\"\n",
    "sample3 = \"Trump to Fox: flipping almost ought to be illegal. 30-40 years I've been watching flippers\"\n",
    "\n",
    "\"32 years ago, crime boss Tony Salerno, who supplied Trump Plaza concrete, was convicted of racketeering. His top deputy flipped to help FBI\"\n",
    "\n",
    "\"lawyer for both Salerno and Trump: Roy Cohn\"\n",
    "\n",
    "# Open each of the sample files, read the text,\n",
    "# and assign it to the variables above\n",
    "# YOUR CODE HERE\n",
    "\n",
    "# Create a tuple of the samples\n",
    "samples = (sample1, sample2, sample3)"
   ]
  },
  {
   "cell_type": "code",
   "execution_count": 27,
   "metadata": {},
   "outputs": [
    {
     "data": {
      "text/plain": [
       "[{'neg': 0.665, 'neu': 0.268, 'pos': 0.067, 'compound': -0.937},\n",
       " {'neg': 0.0, 'neu': 1.0, 'pos': 0.0, 'compound': 0.0},\n",
       " {'neg': 0.205, 'neu': 0.795, 'pos': 0.0, 'compound': -0.5574}]"
      ]
     },
     "execution_count": 27,
     "metadata": {},
     "output_type": "execute_result"
    }
   ],
   "source": [
    "# Run Vader Sentiment Analysis on Each of the Samples\n",
    "\n",
    "# Loop through each sample and print the scores\n",
    "# YOUR CODE HERE\n",
    "sents = []\n",
    "for sample in samples:\n",
    "    sents.append(analyzer.polarity_scores(sample))\n",
    "    \n",
    "sents"
   ]
  },
  {
   "cell_type": "code",
   "execution_count": null,
   "metadata": {},
   "outputs": [],
   "source": []
  }
 ],
 "metadata": {
  "kernelspec": {
   "display_name": "Python 3",
   "language": "python",
   "name": "python3"
  },
  "language_info": {
   "codemirror_mode": {
    "name": "ipython",
    "version": 3
   },
   "file_extension": ".py",
   "mimetype": "text/x-python",
   "name": "python",
   "nbconvert_exporter": "python",
   "pygments_lexer": "ipython3",
   "version": "3.6.5"
  },
  "varInspector": {
   "cols": {
    "lenName": 16,
    "lenType": 16,
    "lenVar": 40
   },
   "kernels_config": {
    "python": {
     "delete_cmd_postfix": "",
     "delete_cmd_prefix": "del ",
     "library": "var_list.py",
     "varRefreshCmd": "print(var_dic_list())"
    },
    "r": {
     "delete_cmd_postfix": ") ",
     "delete_cmd_prefix": "rm(",
     "library": "var_list.r",
     "varRefreshCmd": "cat(var_dic_list()) "
    }
   },
   "types_to_exclude": [
    "module",
    "function",
    "builtin_function_or_method",
    "instance",
    "_Feature"
   ],
   "window_display": false
  }
 },
 "nbformat": 4,
 "nbformat_minor": 2
}
