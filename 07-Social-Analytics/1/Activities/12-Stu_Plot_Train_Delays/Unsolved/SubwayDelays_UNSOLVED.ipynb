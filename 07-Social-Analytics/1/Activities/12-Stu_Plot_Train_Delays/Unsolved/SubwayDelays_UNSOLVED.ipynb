{
 "cells": [
  {
   "cell_type": "code",
   "execution_count": null,
   "metadata": {
    "collapsed": true
   },
   "outputs": [],
   "source": [
    "# Dependencies\n",
    "import tweepy\n",
    "import json\n",
    "import pandas as pd\n",
    "import matplotlib.pyplot as plt\n",
    "from config import consumer_key, consumer_secret, access_token, access_token_secret\n",
    "\n",
    "# Setup Tweepy API Authentication\n",
    "auth = tweepy.OAuthHandler(consumer_key, consumer_secret)\n",
    "auth.set_access_token(access_token, access_token_secret)\n",
    "api = tweepy.API(auth, parser=tweepy.parsers.JSONParser())"
   ]
  },
  {
   "cell_type": "code",
   "execution_count": null,
   "metadata": {
    "collapsed": true,
    "scrolled": true
   },
   "outputs": [],
   "source": [
    "# Create an empty dictionary that will hold delayed trains\n",
    "delayed_trains = {}\n",
    "    \n",
    "# Target User = A Twitter account that sends tweets regarding delayed trains\n",
    "target_user = \"SubwayStats\"\n",
    "\n",
    "# Loop through 50 pages of statuses\n",
    "for x in range(1, 51):\n",
    "\n",
    "    # Get all tweets from home feed. Set pagination to \"x\"\n",
    "    public_tweets = api.user_timeline(target_user, page=x)\n",
    "\n",
    "    # Loop through all tweets\n",
    "    for tweet in public_tweets:\n",
    "        \n",
    "        # Break tweet text into a list of lowercase words\n",
    "        tweet_text = tweet[\"text\"].lower().split(\" \")\n",
    "        \n",
    "        # Print the tweet text only if it contains the word \"delays\" or \"change\"\n",
    "        if(\"delays\" in tweet_text or \"change\" in tweet_text):\n",
    "            print(tweet[\"text\"].lower())\n",
    "            \n",
    "            # Loop through hashtags to extract the train names\n",
    "            # Hint: try [\"entities\"] and [\"hashtags]\n",
    "            # for hashtag in tweet[][]... :\n",
    "                \n",
    "                # Extract the hashtag's text, and set it to lower case\n",
    "                # train_name = your code here\n",
    "                \n",
    "                # Remove all hashtags that are extraneous\n",
    "                if (train_name != \"nycsubway\" and train_name != \"mta\" and train_name != \"nyc\"):\n",
    "                                        \n",
    "                    # If train is new, i.e. not in the dictionary, add it to the dictionary, and set its value to 1\n",
    "                    # Your code here\n",
    "                    \n",
    "                    # If it already exists add 1 to its count\n",
    "                    else:    \n",
    "                        "
   ]
  },
  {
   "cell_type": "code",
   "execution_count": null,
   "metadata": {
    "collapsed": true
   },
   "outputs": [],
   "source": [
    "# Print the Train Delay counts\n",
    "print(delayed_trains)\n",
    "\n",
    "# Convert Train Delay object into a pandas series\n",
    "\n",
    "\n",
    "# Preview the results\n",
    "delayed_trains_pd"
   ]
  },
  {
   "cell_type": "code",
   "execution_count": null,
   "metadata": {
    "collapsed": true,
    "scrolled": true
   },
   "outputs": [],
   "source": [
    "# Create a plot  "
   ]
  }
 ],
 "metadata": {
  "anaconda-cloud": {},
  "kernelspec": {
   "display_name": "Python [default]",
   "language": "python",
   "name": "python3"
  },
  "language_info": {
   "codemirror_mode": {
    "name": "ipython",
    "version": 3
   },
   "file_extension": ".py",
   "mimetype": "text/x-python",
   "name": "python",
   "nbconvert_exporter": "python",
   "pygments_lexer": "ipython3",
   "version": "3.6.1"
  }
 },
 "nbformat": 4,
 "nbformat_minor": 1
}
