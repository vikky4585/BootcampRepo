{
 "cells": [
  {
   "cell_type": "code",
   "execution_count": 1,
   "metadata": {},
   "outputs": [],
   "source": [
    "# Dependencies\n",
    "import tweepy\n",
    "import json\n",
    "import pandas as pd\n",
    "import matplotlib.pyplot as plt\n",
    "from config import consumer_key, consumer_secret, access_token, access_token_secret\n",
    "\n",
    "# Setup Tweepy API Authentication\n",
    "auth = tweepy.OAuthHandler(consumer_key, consumer_secret)\n",
    "auth.set_access_token(access_token, access_token_secret)\n",
    "api = tweepy.API(auth, parser=tweepy.parsers.JSONParser())"
   ]
  },
  {
   "cell_type": "code",
   "execution_count": 2,
   "metadata": {},
   "outputs": [
    {
     "name": "stdout",
     "output_type": "stream",
     "text": [
      "exception for kanyewest: [{'code': 50, 'message': 'User not found.'}]\n"
     ]
    },
    {
     "data": {
      "text/html": [
       "<div>\n",
       "<style scoped>\n",
       "    .dataframe tbody tr th:only-of-type {\n",
       "        vertical-align: middle;\n",
       "    }\n",
       "\n",
       "    .dataframe tbody tr th {\n",
       "        vertical-align: top;\n",
       "    }\n",
       "\n",
       "    .dataframe thead th {\n",
       "        text-align: right;\n",
       "    }\n",
       "</style>\n",
       "<table border=\"1\" class=\"dataframe\">\n",
       "  <thead>\n",
       "    <tr style=\"text-align: right;\">\n",
       "      <th></th>\n",
       "      <th>Screen Name</th>\n",
       "      <th>Real Name</th>\n",
       "      <th>Tweets</th>\n",
       "      <th>Followers</th>\n",
       "      <th>Following</th>\n",
       "      <th>Favorites Count</th>\n",
       "    </tr>\n",
       "  </thead>\n",
       "  <tbody>\n",
       "    <tr>\n",
       "      <th>0</th>\n",
       "      <td>katyperry</td>\n",
       "      <td>KATY PERRY</td>\n",
       "      <td>9066</td>\n",
       "      <td>109013659</td>\n",
       "      <td>210</td>\n",
       "      <td>6118</td>\n",
       "    </tr>\n",
       "    <tr>\n",
       "      <th>1</th>\n",
       "      <td>justinbieber</td>\n",
       "      <td>Justin Bieber</td>\n",
       "      <td>30611</td>\n",
       "      <td>105776569</td>\n",
       "      <td>315332</td>\n",
       "      <td>3445</td>\n",
       "    </tr>\n",
       "    <tr>\n",
       "      <th>2</th>\n",
       "      <td>BarackObama</td>\n",
       "      <td>Barack Obama</td>\n",
       "      <td>15506</td>\n",
       "      <td>101256761</td>\n",
       "      <td>623741</td>\n",
       "      <td>11</td>\n",
       "    </tr>\n",
       "    <tr>\n",
       "      <th>3</th>\n",
       "      <td>Taylorswift13</td>\n",
       "      <td>Taylor Swift</td>\n",
       "      <td>88</td>\n",
       "      <td>85578657</td>\n",
       "      <td>0</td>\n",
       "      <td>441</td>\n",
       "    </tr>\n",
       "    <tr>\n",
       "      <th>4</th>\n",
       "      <td>rihanna</td>\n",
       "      <td>Rihanna</td>\n",
       "      <td>10075</td>\n",
       "      <td>86744905</td>\n",
       "      <td>1115</td>\n",
       "      <td>1022</td>\n",
       "    </tr>\n",
       "  </tbody>\n",
       "</table>\n",
       "</div>"
      ],
      "text/plain": [
       "     Screen Name      Real Name Tweets  Followers Following Favorites Count\n",
       "0      katyperry     KATY PERRY   9066  109013659       210            6118\n",
       "1   justinbieber  Justin Bieber  30611  105776569    315332            3445\n",
       "2    BarackObama   Barack Obama  15506  101256761    623741              11\n",
       "3  Taylorswift13   Taylor Swift     88   85578657         0             441\n",
       "4        rihanna        Rihanna  10075   86744905      1115            1022"
      ]
     },
     "execution_count": 2,
     "metadata": {},
     "output_type": "execute_result"
    }
   ],
   "source": [
    "# Import CSV file into Data Frame\n",
    "popular_tweeters = pd.read_csv(\"../Resources/PopularAccounts.csv\", dtype=str)\n",
    "\n",
    "# Iterate through DataFrame\n",
    "for index, row in popular_tweeters.iterrows():\n",
    "\n",
    "    try:\n",
    "        # Grab the username\n",
    "        target_user = row[\"Screen Name\"]\n",
    "        # print(target_user)\n",
    "\n",
    "        # Use the username with the Twitter API get_user\n",
    "        user_account = api.get_user(target_user)\n",
    "        user_real_name = user_account[\"name\"]\n",
    "\n",
    "        # Get the specific column data\n",
    "        user_tweets = user_account[\"statuses_count\"]\n",
    "        user_followers = user_account[\"followers_count\"]\n",
    "        user_following = user_account[\"friends_count\"]\n",
    "        user_favorites = user_account[\"favourites_count\"]\n",
    "\n",
    "        # Replace the row information for each\n",
    "        popular_tweeters.at[index, \"Real Name\"] = user_real_name\n",
    "        popular_tweeters.at[index, \"Tweets\"] = user_tweets\n",
    "        popular_tweeters.at[index, \"Followers\"] = user_followers\n",
    "        popular_tweeters.at[index, \"Following\"] = user_following\n",
    "        popular_tweeters.at[index, \"Favorites Count\"] = user_favorites\n",
    "        \n",
    "    except tweepy.TweepError as e:\n",
    "        print(f\"exception for {row['Screen Name']}: {e}\")\n",
    "        popular_tweeters.drop(index=index,inplace=True)\n",
    "    \n",
    "# Export the new CSV\n",
    "popular_tweeters.to_csv(\"PopularAcounts_New.csv\", index=False)\n",
    "\n",
    "# View the DataFrame\n",
    "popular_tweeters.head()"
   ]
  },
  {
   "cell_type": "code",
   "execution_count": 3,
   "metadata": {},
   "outputs": [
    {
     "data": {
      "text/html": [
       "<div>\n",
       "<style scoped>\n",
       "    .dataframe tbody tr th:only-of-type {\n",
       "        vertical-align: middle;\n",
       "    }\n",
       "\n",
       "    .dataframe tbody tr th {\n",
       "        vertical-align: top;\n",
       "    }\n",
       "\n",
       "    .dataframe thead th {\n",
       "        text-align: right;\n",
       "    }\n",
       "</style>\n",
       "<table border=\"1\" class=\"dataframe\">\n",
       "  <thead>\n",
       "    <tr style=\"text-align: right;\">\n",
       "      <th></th>\n",
       "      <th>Average Favorites Count</th>\n",
       "      <th>Average Follower Count</th>\n",
       "      <th>Average Following Count</th>\n",
       "      <th>Average Tweet Count</th>\n",
       "    </tr>\n",
       "  </thead>\n",
       "  <tbody>\n",
       "    <tr>\n",
       "      <th>0</th>\n",
       "      <td>1839.959184</td>\n",
       "      <td>5.005659e+07</td>\n",
       "      <td>32585.612245</td>\n",
       "      <td>32214.285714</td>\n",
       "    </tr>\n",
       "  </tbody>\n",
       "</table>\n",
       "</div>"
      ],
      "text/plain": [
       "   Average Favorites Count  Average Follower Count  Average Following Count  \\\n",
       "0              1839.959184            5.005659e+07             32585.612245   \n",
       "\n",
       "   Average Tweet Count  \n",
       "0         32214.285714  "
      ]
     },
     "execution_count": 3,
     "metadata": {},
     "output_type": "execute_result"
    }
   ],
   "source": [
    "# Calculate Averages\n",
    "average_tweet_count = popular_tweeters[\"Tweets\"].mean()\n",
    "average_followers = popular_tweeters[\"Followers\"].mean()\n",
    "average_following_count = popular_tweeters[\"Following\"].mean()\n",
    "average_favorites_count = popular_tweeters[\"Favorites Count\"].mean()\n",
    "\n",
    "# Create DataFrame\n",
    "averages = {\"Average Tweet Count\": average_tweet_count, \n",
    "            \"Average Follower Count\": average_followers, \n",
    "            \"Average Following Count\": average_following_count,\n",
    "            \"Average Favorites Count\": average_favorites_count}\n",
    "\n",
    "# Create a Dataframe of the averages\n",
    "pd.DataFrame(averages, index=[0])"
   ]
  },
  {
   "cell_type": "code",
   "execution_count": 4,
   "metadata": {},
   "outputs": [],
   "source": [
    "# Extract Tweet Counts and Follower Counts\n",
    "# YOUR CODE HERE"
   ]
  },
  {
   "cell_type": "code",
   "execution_count": 5,
   "metadata": {},
   "outputs": [],
   "source": [
    "# Extract Tweet Counts and Follower Counts\n",
    "# YOUR CODE HERE"
   ]
  },
  {
   "cell_type": "code",
   "execution_count": 6,
   "metadata": {},
   "outputs": [],
   "source": [
    "# Plot Tweet Counts vs Follower Counts\n",
    "# YOUR CODE HERE"
   ]
  },
  {
   "cell_type": "code",
   "execution_count": 7,
   "metadata": {},
   "outputs": [],
   "source": [
    "# Plot Number Following vs Following Counts\n",
    "# YOUR CODE HERE"
   ]
  },
  {
   "cell_type": "code",
   "execution_count": 8,
   "metadata": {},
   "outputs": [],
   "source": [
    "# Plot Number of Favorites vs Favorite Counts\n",
    "# YOUR CODE HERE"
   ]
  }
 ],
 "metadata": {
  "anaconda-cloud": {},
  "kernelspec": {
   "display_name": "Python 3",
   "language": "python",
   "name": "python3"
  },
  "language_info": {
   "codemirror_mode": {
    "name": "ipython",
    "version": 3
   },
   "file_extension": ".py",
   "mimetype": "text/x-python",
   "name": "python",
   "nbconvert_exporter": "python",
   "pygments_lexer": "ipython3",
   "version": "3.6.5"
  },
  "varInspector": {
   "cols": {
    "lenName": 16,
    "lenType": 16,
    "lenVar": 40
   },
   "kernels_config": {
    "python": {
     "delete_cmd_postfix": "",
     "delete_cmd_prefix": "del ",
     "library": "var_list.py",
     "varRefreshCmd": "print(var_dic_list())"
    },
    "r": {
     "delete_cmd_postfix": ") ",
     "delete_cmd_prefix": "rm(",
     "library": "var_list.r",
     "varRefreshCmd": "cat(var_dic_list()) "
    }
   },
   "types_to_exclude": [
    "module",
    "function",
    "builtin_function_or_method",
    "instance",
    "_Feature"
   ],
   "window_display": false
  }
 },
 "nbformat": 4,
 "nbformat_minor": 1
}
