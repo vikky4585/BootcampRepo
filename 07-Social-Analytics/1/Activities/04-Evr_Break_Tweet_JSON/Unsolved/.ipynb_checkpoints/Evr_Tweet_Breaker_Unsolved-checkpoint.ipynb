{
 "cells": [
  {
   "cell_type": "code",
   "execution_count": 1,
   "metadata": {
    "collapsed": true
   },
   "outputs": [],
   "source": [
    "# Dependencies\n",
    "import json"
   ]
  },
  {
   "cell_type": "code",
   "execution_count": 2,
   "metadata": {
    "collapsed": true
   },
   "outputs": [],
   "source": [
    "# Read JSONs\n",
    "sample = \"../Resources/SampleX.json\""
   ]
  },
  {
   "cell_type": "code",
   "execution_count": 3,
   "metadata": {
    "collapsed": true
   },
   "outputs": [],
   "source": [
    "def load_json(jsonfile):\n",
    "    \"\"\"Load JSON from a file\"\"\"\n",
    "    with open(jsonfile) as file_handle:\n",
    "        return json.load(file_handle)"
   ]
  },
  {
   "cell_type": "code",
   "execution_count": 4,
   "metadata": {},
   "outputs": [
    {
     "name": "stdout",
     "output_type": "stream",
     "text": [
      "{\n",
      "    \"contributors\": null,\n",
      "    \"coordinates\": null,\n",
      "    \"created_at\": \"Thu Mar 09 01:00:18 +0000 2017\",\n",
      "    \"entities\": {\n",
      "        \"hashtags\": [],\n",
      "        \"symbols\": [],\n",
      "        \"urls\": [],\n",
      "        \"user_mentions\": [\n",
      "            {\n",
      "                \"id\": 426802833,\n",
      "                \"id_str\": \"426802833\",\n",
      "                \"indices\": [\n",
      "                    3,\n",
      "                    15\n",
      "                ],\n",
      "                \"name\": \"AP Politics\",\n",
      "                \"screen_name\": \"AP_Politics\"\n",
      "            },\n",
      "            {\n",
      "                \"id\": 109377487,\n",
      "                \"id_str\": \"109377487\",\n",
      "                \"indices\": [\n",
      "                    122,\n",
      "                    130\n",
      "                ],\n",
      "                \"name\": \"Lolita Baldor\",\n",
      "                \"screen_name\": \"lbaldor\"\n",
      "            }\n",
      "        ]\n",
      "    },\n",
      "    \"favorite_count\": 0,\n",
      "    \"favorited\": false,\n",
      "    \"geo\": null,\n",
      "    \"id\": 839641964781924353,\n",
      "    \"id_str\": \"839641964781924353\",\n",
      "    \"in_reply_to_screen_name\": null,\n",
      "    \"in_reply_to_status_id\": null,\n",
      "    \"in_reply_to_status_id_str\": null,\n",
      "    \"in_reply_to_user_id\": null,\n",
      "    \"in_reply_to_user_id_str\": null,\n",
      "    \"is_quote_status\": false,\n",
      "    \"lang\": \"en\",\n",
      "    \"place\": null,\n",
      "    \"retweet_count\": 36,\n",
      "    \"retweeted\": false,\n",
      "    \"retweeted_status\": {\n",
      "        \"contributors\": null,\n",
      "        \"coordinates\": null,\n",
      "        \"created_at\": \"Wed Mar 08 23:39:33 +0000 2017\",\n",
      "        \"entities\": {\n",
      "            \"hashtags\": [],\n",
      "            \"symbols\": [],\n",
      "            \"urls\": [\n",
      "                {\n",
      "                    \"display_url\": \"apne.ws/2m0yjGt\",\n",
      "                    \"expanded_url\": \"http://apne.ws/2m0yjGt\",\n",
      "                    \"indices\": [\n",
      "                        115,\n",
      "                        138\n",
      "                    ],\n",
      "                    \"url\": \"https://t.co/Y0WmMVL40j\"\n",
      "                }\n",
      "            ],\n",
      "            \"user_mentions\": [\n",
      "                {\n",
      "                    \"id\": 109377487,\n",
      "                    \"id_str\": \"109377487\",\n",
      "                    \"indices\": [\n",
      "                        105,\n",
      "                        113\n",
      "                    ],\n",
      "                    \"name\": \"Lolita Baldor\",\n",
      "                    \"screen_name\": \"lbaldor\"\n",
      "                }\n",
      "            ]\n",
      "        },\n",
      "        \"favorite_count\": 14,\n",
      "        \"favorited\": false,\n",
      "        \"geo\": null,\n",
      "        \"id\": 839621639801274369,\n",
      "        \"id_str\": \"839621639801274369\",\n",
      "        \"in_reply_to_screen_name\": null,\n",
      "        \"in_reply_to_status_id\": null,\n",
      "        \"in_reply_to_status_id_str\": null,\n",
      "        \"in_reply_to_user_id\": null,\n",
      "        \"in_reply_to_user_id_str\": null,\n",
      "        \"is_quote_status\": false,\n",
      "        \"lang\": \"en\",\n",
      "        \"place\": null,\n",
      "        \"possibly_sensitive\": false,\n",
      "        \"retweet_count\": 36,\n",
      "        \"retweeted\": false,\n",
      "        \"source\": \"<a href=\\\"http://www.socialflow.com\\\" rel=\\\"nofollow\\\">SocialFlow</a>\",\n",
      "        \"text\": \"Official says couple hundred Marines arrive in Syria with artillery to help with Islamic State fight, by @lbaldor \\nhttps://t.co/Y0WmMVL40j\",\n",
      "        \"truncated\": false,\n",
      "        \"user\": {\n",
      "            \"contributors_enabled\": false,\n",
      "            \"created_at\": \"Fri Dec 02 18:26:10 +0000 2011\",\n",
      "            \"default_profile\": false,\n",
      "            \"default_profile_image\": false,\n",
      "            \"description\": \"Highlights from AP's coverage of U.S. politics and government in words, photos and video. Managed by the Washington bureau. https://t.co/lTcEv1VGoB\",\n",
      "            \"entities\": {\n",
      "                \"description\": {\n",
      "                    \"urls\": [\n",
      "                        {\n",
      "                            \"display_url\": \"apne.ws/1n6XgyB\",\n",
      "                            \"expanded_url\": \"http://apne.ws/1n6XgyB\",\n",
      "                            \"indices\": [\n",
      "                                124,\n",
      "                                147\n",
      "                            ],\n",
      "                            \"url\": \"https://t.co/lTcEv1VGoB\"\n",
      "                        }\n",
      "                    ]\n",
      "                },\n",
      "                \"url\": {\n",
      "                    \"urls\": [\n",
      "                        {\n",
      "                            \"display_url\": \"apne.ws/1p2OXkb\",\n",
      "                            \"expanded_url\": \"http://apne.ws/1p2OXkb\",\n",
      "                            \"indices\": [\n",
      "                                0,\n",
      "                                22\n",
      "                            ],\n",
      "                            \"url\": \"http://t.co/fM8tZ84l8o\"\n",
      "                        }\n",
      "                    ]\n",
      "                }\n",
      "            },\n",
      "            \"favourites_count\": 5,\n",
      "            \"follow_request_sent\": false,\n",
      "            \"followers_count\": 232562,\n",
      "            \"following\": false,\n",
      "            \"friends_count\": 618,\n",
      "            \"geo_enabled\": false,\n",
      "            \"has_extended_profile\": false,\n",
      "            \"id\": 426802833,\n",
      "            \"id_str\": \"426802833\",\n",
      "            \"is_translation_enabled\": false,\n",
      "            \"is_translator\": false,\n",
      "            \"lang\": \"en\",\n",
      "            \"listed_count\": 4051,\n",
      "            \"location\": \"Washington, D.C.\",\n",
      "            \"name\": \"AP Politics\",\n",
      "            \"notifications\": false,\n",
      "            \"profile_background_color\": \"333333\",\n",
      "            \"profile_background_image_url\": \"http://pbs.twimg.com/profile_background_images/734513135/b3be603514207db70cb0a991c26f2718.jpeg\",\n",
      "            \"profile_background_image_url_https\": \"https://pbs.twimg.com/profile_background_images/734513135/b3be603514207db70cb0a991c26f2718.jpeg\",\n",
      "            \"profile_background_tile\": false,\n",
      "            \"profile_banner_url\": \"https://pbs.twimg.com/profile_banners/426802833/1462395539\",\n",
      "            \"profile_image_url\": \"http://pbs.twimg.com/profile_images/1848262680/APLogo_Twitter_normal.jpg\",\n",
      "            \"profile_image_url_https\": \"https://pbs.twimg.com/profile_images/1848262680/APLogo_Twitter_normal.jpg\",\n",
      "            \"profile_link_color\": \"0084B4\",\n",
      "            \"profile_sidebar_border_color\": \"FFFFFF\",\n",
      "            \"profile_sidebar_fill_color\": \"DDEEF6\",\n",
      "            \"profile_text_color\": \"333333\",\n",
      "            \"profile_use_background_image\": true,\n",
      "            \"protected\": false,\n",
      "            \"screen_name\": \"AP_Politics\",\n",
      "            \"statuses_count\": 55243,\n",
      "            \"time_zone\": \"Central Time (US & Canada)\",\n",
      "            \"translator_type\": \"none\",\n",
      "            \"url\": \"http://t.co/fM8tZ84l8o\",\n",
      "            \"utc_offset\": -21600,\n",
      "            \"verified\": true\n",
      "        }\n",
      "    },\n",
      "    \"source\": \"<a href=\\\"http://www.socialflow.com\\\" rel=\\\"nofollow\\\">SocialFlow</a>\",\n",
      "    \"text\": \"RT @AP_Politics: Official says couple hundred Marines arrive in Syria with artillery to help with Islamic State fight, by @lbaldor \\nhttps:/\\u2026\",\n",
      "    \"truncated\": false,\n",
      "    \"user\": {\n",
      "        \"contributors_enabled\": false,\n",
      "        \"created_at\": \"Fri Jun 26 21:48:52 +0000 2009\",\n",
      "        \"default_profile\": false,\n",
      "        \"default_profile_image\": false,\n",
      "        \"description\": \"News from The Associated Press, and a taste of the great journalism produced by AP members and customers. Managed 24/7 by these editors: http://t.co/BibaTN49vB\",\n",
      "        \"entities\": {\n",
      "            \"description\": {\n",
      "                \"urls\": [\n",
      "                    {\n",
      "                        \"display_url\": \"apne.ws/J2EPJ5\",\n",
      "                        \"expanded_url\": \"http://apne.ws/J2EPJ5\",\n",
      "                        \"indices\": [\n",
      "                            137,\n",
      "                            159\n",
      "                        ],\n",
      "                        \"url\": \"http://t.co/BibaTN49vB\"\n",
      "                    }\n",
      "                ]\n",
      "            },\n",
      "            \"url\": {\n",
      "                \"urls\": [\n",
      "                    {\n",
      "                        \"display_url\": \"ap.org\",\n",
      "                        \"expanded_url\": \"http://www.ap.org\",\n",
      "                        \"indices\": [\n",
      "                            0,\n",
      "                            22\n",
      "                        ],\n",
      "                        \"url\": \"http://t.co/2QmQWtmJc7\"\n",
      "                    }\n",
      "                ]\n",
      "            }\n",
      "        },\n",
      "        \"favourites_count\": 10,\n",
      "        \"follow_request_sent\": false,\n",
      "        \"followers_count\": 10149654,\n",
      "        \"following\": false,\n",
      "        \"friends_count\": 7252,\n",
      "        \"geo_enabled\": false,\n",
      "        \"has_extended_profile\": false,\n",
      "        \"id\": 51241574,\n",
      "        \"id_str\": \"51241574\",\n",
      "        \"is_translation_enabled\": true,\n",
      "        \"is_translator\": false,\n",
      "        \"lang\": \"en\",\n",
      "        \"listed_count\": 85727,\n",
      "        \"location\": \"Global\",\n",
      "        \"name\": \"The Associated Press\",\n",
      "        \"notifications\": false,\n",
      "        \"profile_background_color\": \"333333\",\n",
      "        \"profile_background_image_url\": \"http://pbs.twimg.com/profile_background_images/734506342/b3be603514207db70cb0a991c26f2718.jpeg\",\n",
      "        \"profile_background_image_url_https\": \"https://pbs.twimg.com/profile_background_images/734506342/b3be603514207db70cb0a991c26f2718.jpeg\",\n",
      "        \"profile_background_tile\": false,\n",
      "        \"profile_banner_url\": \"https://pbs.twimg.com/profile_banners/51241574/1475250875\",\n",
      "        \"profile_image_url\": \"http://pbs.twimg.com/profile_images/461964160838803457/8z9FImcv_normal.png\",\n",
      "        \"profile_image_url_https\": \"https://pbs.twimg.com/profile_images/461964160838803457/8z9FImcv_normal.png\",\n",
      "        \"profile_link_color\": \"CC3300\",\n",
      "        \"profile_sidebar_border_color\": \"FFFFFF\",\n",
      "        \"profile_sidebar_fill_color\": \"CCCCCC\",\n",
      "        \"profile_text_color\": \"333333\",\n",
      "        \"profile_use_background_image\": true,\n",
      "        \"protected\": false,\n",
      "        \"screen_name\": \"AP\",\n",
      "        \"statuses_count\": 168829,\n",
      "        \"time_zone\": \"Eastern Time (US & Canada)\",\n",
      "        \"translator_type\": \"none\",\n",
      "        \"url\": \"http://t.co/2QmQWtmJc7\",\n",
      "        \"utc_offset\": -18000,\n",
      "        \"verified\": true\n",
      "    }\n",
      "}\n"
     ]
    }
   ],
   "source": [
    "sample_data = load_json(sample)\n",
    "print(json.dumps(sample_data[0], indent=4, sort_keys=True))"
   ]
  },
  {
   "cell_type": "code",
   "execution_count": 5,
   "metadata": {},
   "outputs": [
    {
     "name": "stdout",
     "output_type": "stream",
     "text": [
      "------------------------------------------------------------------\n"
     ]
    }
   ],
   "source": [
    "print(\"------------------------------------------------------------------\")\n",
    "\n",
    "# Using the Sample_Data provided above, write code to answer each of the\n",
    "# following questions:"
   ]
  },
  {
   "cell_type": "code",
   "execution_count": 6,
   "metadata": {
    "collapsed": true
   },
   "outputs": [],
   "source": [
    "# Question 1: What user account is the tweets in the Sample associated\n",
    "# with?\n"
   ]
  },
  {
   "cell_type": "code",
   "execution_count": 7,
   "metadata": {
    "collapsed": true
   },
   "outputs": [],
   "source": [
    "# Question 2: How many followers does this account have associated with it?\n"
   ]
  },
  {
   "cell_type": "code",
   "execution_count": 8,
   "metadata": {
    "collapsed": true
   },
   "outputs": [],
   "source": [
    "# Question 3: How many tweets are included in the Sample?\n"
   ]
  },
  {
   "cell_type": "code",
   "execution_count": 9,
   "metadata": {
    "collapsed": true
   },
   "outputs": [],
   "source": [
    "# Question 4: How many tweets total has this account made?\n"
   ]
  },
  {
   "cell_type": "code",
   "execution_count": 10,
   "metadata": {
    "collapsed": true
   },
   "outputs": [],
   "source": [
    "# Question 5: What was the text in the most recent tweet?\n"
   ]
  },
  {
   "cell_type": "code",
   "execution_count": 11,
   "metadata": {
    "collapsed": true
   },
   "outputs": [],
   "source": [
    "# Question 6: What was the text associated with each of the tweets\n",
    "# included in this sample data?\n"
   ]
  },
  {
   "cell_type": "code",
   "execution_count": 12,
   "metadata": {
    "collapsed": true
   },
   "outputs": [],
   "source": [
    "# Question 7 (Bonus): Which of the user's tweets was most frequently\n",
    "# retweeted? How many retweets were there?\n"
   ]
  }
 ],
 "metadata": {
  "kernelspec": {
   "display_name": "Python 3",
   "language": "python",
   "name": "python3"
  },
  "language_info": {
   "codemirror_mode": {
    "name": "ipython",
    "version": 3
   },
   "file_extension": ".py",
   "mimetype": "text/x-python",
   "name": "python",
   "nbconvert_exporter": "python",
   "pygments_lexer": "ipython3",
   "version": "3.6.5"
  },
  "varInspector": {
   "cols": {
    "lenName": 16,
    "lenType": 16,
    "lenVar": 40
   },
   "kernels_config": {
    "python": {
     "delete_cmd_postfix": "",
     "delete_cmd_prefix": "del ",
     "library": "var_list.py",
     "varRefreshCmd": "print(var_dic_list())"
    },
    "r": {
     "delete_cmd_postfix": ") ",
     "delete_cmd_prefix": "rm(",
     "library": "var_list.r",
     "varRefreshCmd": "cat(var_dic_list()) "
    }
   },
   "types_to_exclude": [
    "module",
    "function",
    "builtin_function_or_method",
    "instance",
    "_Feature"
   ],
   "window_display": false
  }
 },
 "nbformat": 4,
 "nbformat_minor": 2
}
