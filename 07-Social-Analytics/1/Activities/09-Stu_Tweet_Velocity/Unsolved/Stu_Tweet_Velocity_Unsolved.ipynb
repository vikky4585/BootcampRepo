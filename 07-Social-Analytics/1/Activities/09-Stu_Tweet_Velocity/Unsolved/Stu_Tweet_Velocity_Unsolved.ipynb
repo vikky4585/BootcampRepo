{
 "cells": [
  {
   "cell_type": "code",
   "execution_count": 1,
   "metadata": {},
   "outputs": [],
   "source": [
    "# Dependencies\n",
    "import tweepy\n",
    "import json\n",
    "import numpy as np\n",
    "from datetime import datetime\n",
    "import matplotlib.pyplot as plt\n",
    "from config import consumer_key, consumer_secret, access_token, access_token_secret\n",
    "\n",
    "\n",
    "# Setup Tweepy API Authentication\n",
    "auth = tweepy.OAuthHandler(consumer_key, consumer_secret)\n",
    "auth.set_access_token(access_token, access_token_secret)\n",
    "api = tweepy.API(auth, parser=tweepy.parsers.JSONParser())"
   ]
  },
  {
   "cell_type": "code",
   "execution_count": 2,
   "metadata": {},
   "outputs": [
    {
     "data": {
      "text/plain": [
       "500"
      ]
     },
     "execution_count": 2,
     "metadata": {},
     "output_type": "execute_result"
    }
   ],
   "source": [
    "# Target User\n",
    "target_user = \"realdonaldtrump\"\n",
    "\n",
    "# Create array to record all date-times of tweets\n",
    "tweet_times = []\n",
    "\n",
    "# Loop through 500 tweets\n",
    "for x in range(1, 26):\n",
    "    \n",
    "    # Get all tweets from target user\n",
    "    public_tweets = api.user_timeline(target_user, page=x)\n",
    "\n",
    "    for twt in public_tweets:\n",
    "        tweet_times.append(twt['created_at'])\n",
    "\n",
    "# Confirm tweet counts\n",
    "len(tweet_times)"
   ]
  },
  {
   "cell_type": "code",
   "execution_count": 7,
   "metadata": {
    "scrolled": false
   },
   "outputs": [
    {
     "name": "stderr",
     "output_type": "stream",
     "text": [
      "IOPub data rate exceeded.\n",
      "The notebook server will temporarily stop sending output\n",
      "to the client in order to avoid crashing it.\n",
      "To change this limit, set the config variable\n",
      "`--NotebookApp.iopub_data_rate_limit`.\n",
      "\n",
      "Current values:\n",
      "NotebookApp.iopub_data_rate_limit=1000000.0 (bytes/sec)\n",
      "NotebookApp.rate_limit_window=3.0 (secs)\n",
      "\n"
     ]
    }
   ],
   "source": [
    "# Convert all tweet times into datetime objects\n",
    "tweet_time_objects = []\n",
    "# Add each datetime object into the array\n",
    "# YOUR CODE HERE\n",
    "for x in tweet_times:\n",
    "\n",
    "    tweet_datetime = datetime.strptime(x, \"%a %b %d %H:%M:%S %z %Y\")\n",
    "    tweet_time_objects.append(tweet_datetime)\n",
    "    # Preview that datetimes are matching\n",
    "    #if x % 100 == 0:\n",
    "        #print(tweet_times[x])\n",
    "        #print(tweet_datetime)\n",
    "    print(tweet_time_objects)"
   ]
  },
  {
   "cell_type": "code",
   "execution_count": 8,
   "metadata": {
    "scrolled": false
   },
   "outputs": [
    {
     "name": "stdout",
     "output_type": "stream",
     "text": [
      "Avg. Hours Between Tweets: 2:02:53.458918\n"
     ]
    }
   ],
   "source": [
    "# Calculate the time between tweets\n",
    "time_in_between = []\n",
    "\n",
    "# Calculate the time in between each tweet, then append the difference to the list\n",
    "# Hint: use a construction like the following: for x in range(len(tweet_time_objects)-1):\n",
    "# Hint: subtract the next item on the list from the current one, at position x\n",
    "# YOUR CODE HERE\n",
    "for i in range(len(tweet_time_objects) -1):\n",
    "    time_in_between.append(tweet_time_objects[i] - tweet_time_objects[i+1])\n",
    "\n",
    "# Hours Between Tweets\n",
    "print(f\"Avg. Hours Between Tweets: {np.mean(time_in_between)}\")"
   ]
  },
  {
   "cell_type": "code",
   "execution_count": null,
   "metadata": {
    "collapsed": true
   },
   "outputs": [],
   "source": [
    "time_in_between[:10]"
   ]
  },
  {
   "cell_type": "code",
   "execution_count": null,
   "metadata": {
    "collapsed": true
   },
   "outputs": [],
   "source": [
    "# Use MatPlotLib to plot the time between Tweets\n",
    "# YOUR CODE HERE"
   ]
  }
 ],
 "metadata": {
  "anaconda-cloud": {},
  "kernelspec": {
   "display_name": "Python 3",
   "language": "python",
   "name": "python3"
  },
  "language_info": {
   "codemirror_mode": {
    "name": "ipython",
    "version": 3
   },
   "file_extension": ".py",
   "mimetype": "text/x-python",
   "name": "python",
   "nbconvert_exporter": "python",
   "pygments_lexer": "ipython3",
   "version": "3.6.5"
  },
  "varInspector": {
   "cols": {
    "lenName": 16,
    "lenType": 16,
    "lenVar": 40
   },
   "kernels_config": {
    "python": {
     "delete_cmd_postfix": "",
     "delete_cmd_prefix": "del ",
     "library": "var_list.py",
     "varRefreshCmd": "print(var_dic_list())"
    },
    "r": {
     "delete_cmd_postfix": ") ",
     "delete_cmd_prefix": "rm(",
     "library": "var_list.r",
     "varRefreshCmd": "cat(var_dic_list()) "
    }
   },
   "types_to_exclude": [
    "module",
    "function",
    "builtin_function_or_method",
    "instance",
    "_Feature"
   ],
   "window_display": false
  }
 },
 "nbformat": 4,
 "nbformat_minor": 1
}
