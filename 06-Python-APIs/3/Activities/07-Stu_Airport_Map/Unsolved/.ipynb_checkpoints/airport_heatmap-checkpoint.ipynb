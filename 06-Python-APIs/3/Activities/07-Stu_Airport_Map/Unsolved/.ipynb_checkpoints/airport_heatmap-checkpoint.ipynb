{
 "cells": [
  {
   "cell_type": "code",
   "execution_count": 1,
   "metadata": {},
   "outputs": [],
   "source": [
    "import gmaps\n",
    "import pandas as pd\n",
    "\n",
    "from config import gkey\n",
    "# Configure gmaps\n",
    "gmaps.configure(api_key=gkey)\n"
   ]
  },
  {
   "cell_type": "code",
   "execution_count": 2,
   "metadata": {},
   "outputs": [
    {
     "data": {
      "text/html": [
       "<div>\n",
       "<style scoped>\n",
       "    .dataframe tbody tr th:only-of-type {\n",
       "        vertical-align: middle;\n",
       "    }\n",
       "\n",
       "    .dataframe tbody tr th {\n",
       "        vertical-align: top;\n",
       "    }\n",
       "\n",
       "    .dataframe thead th {\n",
       "        text-align: right;\n",
       "    }\n",
       "</style>\n",
       "<table border=\"1\" class=\"dataframe\">\n",
       "  <thead>\n",
       "    <tr style=\"text-align: right;\">\n",
       "      <th></th>\n",
       "      <th>Unnamed: 0</th>\n",
       "      <th>City</th>\n",
       "      <th>State</th>\n",
       "      <th>Lat</th>\n",
       "      <th>Lng</th>\n",
       "      <th>Airport Name</th>\n",
       "      <th>Airport Address</th>\n",
       "      <th>Airport Rating</th>\n",
       "    </tr>\n",
       "  </thead>\n",
       "  <tbody>\n",
       "    <tr>\n",
       "      <th>0</th>\n",
       "      <td>0</td>\n",
       "      <td>New York City</td>\n",
       "      <td>New York</td>\n",
       "      <td>40.712775</td>\n",
       "      <td>-74.005973</td>\n",
       "      <td>Newark Liberty International Airport</td>\n",
       "      <td>3 Brewster Rd, Newark</td>\n",
       "      <td>3.2</td>\n",
       "    </tr>\n",
       "    <tr>\n",
       "      <th>1</th>\n",
       "      <td>1</td>\n",
       "      <td>Los Angeles</td>\n",
       "      <td>California</td>\n",
       "      <td>34.052234</td>\n",
       "      <td>-118.243685</td>\n",
       "      <td>Los Angeles International Airport</td>\n",
       "      <td>1 World Way, Los Angeles</td>\n",
       "      <td>3.5</td>\n",
       "    </tr>\n",
       "    <tr>\n",
       "      <th>2</th>\n",
       "      <td>2</td>\n",
       "      <td>Chicago</td>\n",
       "      <td>Illinois</td>\n",
       "      <td>41.878114</td>\n",
       "      <td>-87.629798</td>\n",
       "      <td>O'Hare International Airport</td>\n",
       "      <td>10000 W O'Hare Ave, Chicago</td>\n",
       "      <td>3.6</td>\n",
       "    </tr>\n",
       "    <tr>\n",
       "      <th>3</th>\n",
       "      <td>3</td>\n",
       "      <td>Houston</td>\n",
       "      <td>Texas</td>\n",
       "      <td>29.760427</td>\n",
       "      <td>-95.369803</td>\n",
       "      <td>William P. Hobby Airport</td>\n",
       "      <td>7800 Airport Blvd, Houston</td>\n",
       "      <td>4.0</td>\n",
       "    </tr>\n",
       "    <tr>\n",
       "      <th>4</th>\n",
       "      <td>4</td>\n",
       "      <td>Philadelphia</td>\n",
       "      <td>Pennsylvania</td>\n",
       "      <td>39.952584</td>\n",
       "      <td>-75.165222</td>\n",
       "      <td>Philadelphia International Airport</td>\n",
       "      <td>8000 Essington Ave, Philadelphia</td>\n",
       "      <td>3.3</td>\n",
       "    </tr>\n",
       "  </tbody>\n",
       "</table>\n",
       "</div>"
      ],
      "text/plain": [
       "   Unnamed: 0           City         State        Lat         Lng  \\\n",
       "0           0  New York City      New York  40.712775  -74.005973   \n",
       "1           1    Los Angeles    California  34.052234 -118.243685   \n",
       "2           2        Chicago      Illinois  41.878114  -87.629798   \n",
       "3           3        Houston         Texas  29.760427  -95.369803   \n",
       "4           4   Philadelphia  Pennsylvania  39.952584  -75.165222   \n",
       "\n",
       "                           Airport Name                   Airport Address  \\\n",
       "0  Newark Liberty International Airport             3 Brewster Rd, Newark   \n",
       "1     Los Angeles International Airport          1 World Way, Los Angeles   \n",
       "2          O'Hare International Airport       10000 W O'Hare Ave, Chicago   \n",
       "3              William P. Hobby Airport        7800 Airport Blvd, Houston   \n",
       "4    Philadelphia International Airport  8000 Essington Ave, Philadelphia   \n",
       "\n",
       "   Airport Rating  \n",
       "0             3.2  \n",
       "1             3.5  \n",
       "2             3.6  \n",
       "3             4.0  \n",
       "4             3.3  "
      ]
     },
     "execution_count": 2,
     "metadata": {},
     "output_type": "execute_result"
    }
   ],
   "source": [
    "# Create aiport dataframe\n",
    "df = pd.read_csv('../Resources/Airport_Output.csv')\n",
    "df.head()"
   ]
  },
  {
   "cell_type": "code",
   "execution_count": 13,
   "metadata": {},
   "outputs": [
    {
     "name": "stdout",
     "output_type": "stream",
     "text": [
      "[(40.7127753, -74.0059728), (34.0522342, -118.24368490000002), (41.8781136, -87.62979820000001), (29.7604267, -95.36980279999999), (39.9525839, -75.1652215), (33.4483771, -112.07403729999999), (29.4241219, -98.4936282), (32.715738, -117.1610838), (32.7766642, -96.7969879), (37.338208200000004, -121.88632859999998), (30.267153000000004, -97.7430608), (30.3321838, -81.65565099999998), (37.7749295, -122.4194155), (39.768403, -86.158068), (39.9611755, -82.99879419999998), (32.7554883, -97.3307658), (35.2270869, -80.8431267), (47.6062095, -122.33207079999998), (39.739235799999996, -104.990251), (31.7618778, -106.48502169999999), (42.331427000000005, -83.0457538), (38.9071923, -77.03687070000001), (42.360082500000004, -71.0588801), (35.1495343, -90.0489801), (36.1626638, -86.78160159999999), (45.523062200000005, -122.6764815), (35.4675602, -97.5164276), (36.169941200000004, -115.13982959999998), (39.2903848, -76.6121893), (38.252664700000004, -85.7584557), (43.0389025, -87.9064736), (35.0843859, -106.65042199999999), (32.2226066, -110.9747108), (36.737798100000006, -119.78712469999999), (38.5815719, -121.49439960000001), (39.0997265, -94.5785667), (33.770050399999995, -118.1937395), (33.4151843, -111.83147240000001), (33.7489954, -84.3879824), (38.8338816, -104.82136340000001), (36.8529263, -75.97798499999998), (35.7795897, -78.6381787), (41.2565369, -95.93450340000001), (25.7616798, -80.1917902), (37.8043637, -122.27111370000002), (44.977753, -93.2650108), (36.1539816, -95.992775), (37.68717609999999, -97.330053), (29.95106579999999, -90.0715323), (32.735687, -97.1080656), (41.499320000000004, -81.6943605), (35.3732921, -119.0187125), (27.950575, -82.4571776), (39.729431899999994, -104.8319195), (21.3069444, -157.8583333), (33.8365932, -117.91430120000001), (33.7454725, -117.867653), (27.800582799999997, -97.396381), (33.9806005, -117.3754942), (38.6270025, -90.1994042), (38.040583700000006, -84.50371640000002), (37.9577016, -121.29077959999998), (40.44062479999999, -79.9958864), (44.953702899999996, -93.0899578), (61.2180556, -149.90027780000003), (39.103118200000004, -84.5120196), (36.0395247, -114.9817213), (36.072635399999996, -79.79197540000001), (33.0198431, -96.6988856), (40.735657, -74.1723667), (41.6528052, -83.53786740000001), (40.813615999999996, -96.7025955), (28.5383355, -81.3792365), (32.6400541, -117.0841955), (40.72815749999999, -74.0776417), (33.3061605, -111.8412502), (41.079273, -85.13935129999999), (42.88644679999999, -78.8783689), (35.99403289999999, -78.898619), (27.767600800000004, -82.64029149999998), (33.6845673, -117.82650490000002), (27.530567100000003, -99.4803241), (33.5778631, -101.85516650000001), (43.07305170000001, -89.4012302), (33.3528264, -111.789027), (36.8507689, -76.28587259999998), (39.529632899999996, -119.8138027), (36.09985959999999, -80.24421600000001), (33.538652299999995, -112.18598659999999), (25.8575963, -80.2781057), (32.912624, -96.6388833), (33.494170399999994, -111.9260519), (32.814017699999994, -96.9488945), (36.7682088, -76.2874927), (36.1988592, -115.1175013), (37.548269700000006, -121.98857190000001), (30.451467699999995, -91.1871466), (37.540724600000004, -77.4360481), (43.6187102, -116.2146068), (34.1083449, -117.2897652)]\n"
     ]
    }
   ],
   "source": [
    "# Store latitude and longitude in locations\n",
    "df = df.fillna(0)\n",
    "#pd['Airport Rating'] = pd.to_numeric(df['Airport Rating'])\n",
    "# Filla NaN values and convert to float\n",
    "coordinates = []\n",
    "\n",
    "for index,row in df.iterrows():\n",
    "    lst = []\n",
    "    lst.append(row['Lat'])\n",
    "    lst.append(row['Lng'])\n",
    "    coordinates.append(tuple(lst))\n",
    "    \n",
    "print(coordinates)\n",
    "    \n",
    "    "
   ]
  },
  {
   "cell_type": "code",
   "execution_count": 19,
   "metadata": {},
   "outputs": [
    {
     "data": {
      "application/vnd.jupyter.widget-view+json": {
       "model_id": "023f471d1b9e42ca9e868b5b97bc5472",
       "version_major": 2,
       "version_minor": 0
      },
      "text/plain": [
       "Figure(layout=FigureLayout(height='420px'))"
      ]
     },
     "metadata": {},
     "output_type": "display_data"
    }
   ],
   "source": [
    "# Plot Heatmap\n",
    "figure_layout = {\n",
    "    'width': '800px',\n",
    "    'height': '400px',\n",
    "    'border': '1px solid black',\n",
    "    'padding': '1px',\n",
    "    'margin': '0 auto 0 auto'\n",
    "}\n",
    "\n",
    "rating = df['Airport Rating']\n",
    "fig = gmaps.figure(layout=figure_layout)\n",
    "fig = gmaps.figure(map_type='HYBRID')\n",
    "markers = gmaps.marker_layer(coordinates)\n",
    "heat_layer = gmaps.heatmap_layer(coordinates, weights=rating, dissipating=False, max_intensity=10,point_radius=1)\n",
    "\n",
    "# Add the layer to the map\n",
    "fig.add_layer(heat_layer)\n",
    "fig"
   ]
  },
  {
   "cell_type": "code",
   "execution_count": null,
   "metadata": {},
   "outputs": [],
   "source": []
  }
 ],
 "metadata": {
  "kernelspec": {
   "display_name": "Python 3",
   "language": "python",
   "name": "python3"
  },
  "language_info": {
   "codemirror_mode": {
    "name": "ipython",
    "version": 3
   },
   "file_extension": ".py",
   "mimetype": "text/x-python",
   "name": "python",
   "nbconvert_exporter": "python",
   "pygments_lexer": "ipython3",
   "version": "3.6.5"
  }
 },
 "nbformat": 4,
 "nbformat_minor": 2
}
