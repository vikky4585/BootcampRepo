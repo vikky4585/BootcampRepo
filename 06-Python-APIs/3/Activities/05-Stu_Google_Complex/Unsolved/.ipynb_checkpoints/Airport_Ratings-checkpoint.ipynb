{
 "cells": [
  {
   "cell_type": "code",
   "execution_count": 2,
   "metadata": {},
   "outputs": [],
   "source": [
    "# Dependencies\n",
    "import pandas as pd\n",
    "import numpy as np\n",
    "import requests\n",
    "import json\n",
    "from config import gkey\n",
    "from pprint import pprint\n",
    "# Import API key\n"
   ]
  },
  {
   "cell_type": "code",
   "execution_count": 3,
   "metadata": {},
   "outputs": [],
   "source": [
    "# Import cities file into the cities_pd DataFrame\n",
    "df = pd.read_csv('../Resources/Cities.csv')\n"
   ]
  },
  {
   "cell_type": "code",
   "execution_count": 4,
   "metadata": {},
   "outputs": [
    {
     "data": {
      "text/html": [
       "<div>\n",
       "<style scoped>\n",
       "    .dataframe tbody tr th:only-of-type {\n",
       "        vertical-align: middle;\n",
       "    }\n",
       "\n",
       "    .dataframe tbody tr th {\n",
       "        vertical-align: top;\n",
       "    }\n",
       "\n",
       "    .dataframe thead th {\n",
       "        text-align: right;\n",
       "    }\n",
       "</style>\n",
       "<table border=\"1\" class=\"dataframe\">\n",
       "  <thead>\n",
       "    <tr style=\"text-align: right;\">\n",
       "      <th></th>\n",
       "      <th>City</th>\n",
       "      <th>State</th>\n",
       "      <th>lat</th>\n",
       "      <th>lng</th>\n",
       "      <th>Airport Name</th>\n",
       "      <th>Airport Address</th>\n",
       "      <th>Airport Ratings</th>\n",
       "    </tr>\n",
       "  </thead>\n",
       "  <tbody>\n",
       "    <tr>\n",
       "      <th>0</th>\n",
       "      <td>New York City</td>\n",
       "      <td>New York</td>\n",
       "      <td></td>\n",
       "      <td></td>\n",
       "      <td></td>\n",
       "      <td></td>\n",
       "      <td></td>\n",
       "    </tr>\n",
       "    <tr>\n",
       "      <th>1</th>\n",
       "      <td>Los Angeles</td>\n",
       "      <td>California</td>\n",
       "      <td></td>\n",
       "      <td></td>\n",
       "      <td></td>\n",
       "      <td></td>\n",
       "      <td></td>\n",
       "    </tr>\n",
       "    <tr>\n",
       "      <th>2</th>\n",
       "      <td>Chicago</td>\n",
       "      <td>Illinois</td>\n",
       "      <td></td>\n",
       "      <td></td>\n",
       "      <td></td>\n",
       "      <td></td>\n",
       "      <td></td>\n",
       "    </tr>\n",
       "    <tr>\n",
       "      <th>3</th>\n",
       "      <td>Houston</td>\n",
       "      <td>Texas</td>\n",
       "      <td></td>\n",
       "      <td></td>\n",
       "      <td></td>\n",
       "      <td></td>\n",
       "      <td></td>\n",
       "    </tr>\n",
       "    <tr>\n",
       "      <th>4</th>\n",
       "      <td>Philadelphia</td>\n",
       "      <td>Pennsylvania</td>\n",
       "      <td></td>\n",
       "      <td></td>\n",
       "      <td></td>\n",
       "      <td></td>\n",
       "      <td></td>\n",
       "    </tr>\n",
       "  </tbody>\n",
       "</table>\n",
       "</div>"
      ],
      "text/plain": [
       "            City         State lat lng Airport Name Airport Address  \\\n",
       "0  New York City      New York                                        \n",
       "1    Los Angeles    California                                        \n",
       "2        Chicago      Illinois                                        \n",
       "3        Houston         Texas                                        \n",
       "4   Philadelphia  Pennsylvania                                        \n",
       "\n",
       "  Airport Ratings  \n",
       "0                  \n",
       "1                  \n",
       "2                  \n",
       "3                  \n",
       "4                  "
      ]
     },
     "execution_count": 4,
     "metadata": {},
     "output_type": "execute_result"
    }
   ],
   "source": [
    "# Add columns for lat, lng, airport name, airport address, airport rating.\n",
    "# Hint: Be sure to specify \"\" as the initial value for each column.\n",
    "df['lat'] = \"\"\n",
    "df['lng'] = \"\"\n",
    "df['Airport Name'] = \"\"\n",
    "df['Airport Address'] = \"\"\n",
    "df['Airport Ratings'] = \"\"\n",
    "df.head()"
   ]
  },
  {
   "cell_type": "code",
   "execution_count": 6,
   "metadata": {
    "scrolled": true
   },
   "outputs": [
    {
     "data": {
      "text/plain": [
       "{'results': [{'address_components': [{'long_name': 'Chicago',\n",
       "     'short_name': 'Chicago',\n",
       "     'types': ['locality', 'political']},\n",
       "    {'long_name': 'Cook County',\n",
       "     'short_name': 'Cook County',\n",
       "     'types': ['administrative_area_level_2', 'political']},\n",
       "    {'long_name': 'Illinois',\n",
       "     'short_name': 'IL',\n",
       "     'types': ['administrative_area_level_1', 'political']},\n",
       "    {'long_name': 'United States',\n",
       "     'short_name': 'US',\n",
       "     'types': ['country', 'political']}],\n",
       "   'formatted_address': 'Chicago, IL, USA',\n",
       "   'geometry': {'bounds': {'northeast': {'lat': 42.023131,\n",
       "      'lng': -87.52366099999999},\n",
       "     'southwest': {'lat': 41.6443349, 'lng': -87.9402669}},\n",
       "    'location': {'lat': 41.8781136, 'lng': -87.6297982},\n",
       "    'location_type': 'APPROXIMATE',\n",
       "    'viewport': {'northeast': {'lat': 42.023131, 'lng': -87.52366099999999},\n",
       "     'southwest': {'lat': 41.6443349, 'lng': -87.9402669}}},\n",
       "   'place_id': 'ChIJ7cv00DwsDogRAMDACa2m4K8',\n",
       "   'types': ['locality', 'political']}],\n",
       " 'status': 'OK'}"
      ]
     },
     "execution_count": 6,
     "metadata": {},
     "output_type": "execute_result"
    }
   ],
   "source": [
    "# Loop through the cities_pd and get the lat/long for each city\n",
    "# Hint: `requests.get(target_url).json()`\n",
    "# Hint: `for index, row in cities_pd.iterrows():`\n",
    "# Hint: `cities_pd.loc`\n",
    "city_url = \"https://maps.googleapis.com/maps/api/geocode/json\"\n",
    "places_url = \"https://maps.googleapis.com/maps/api/geocode/json\"\n",
    "\n",
    "city_params = {\n",
    "    'key': gkey,\n",
    "    'address': 'Chicago, Illinois'\n",
    "}\n",
    "response = requests.get(city_url, params=city_params).json()\n",
    "response\n",
    "\n",
    "\n",
    "    "
   ]
  },
  {
   "cell_type": "code",
   "execution_count": null,
   "metadata": {
    "collapsed": true,
    "scrolled": false
   },
   "outputs": [],
   "source": [
    "# Use the lat/lng we recovered to identify airports\n",
    "# Hint: Code is similar to above block (i.e. you will need to use cities_pd.iterrows() again)\n",
    "# Hint: Use the keyword search for \"international+airport\"\n",
    "# Hint: Use a try-except to handle airports that are missing ratings\n",
    "for index,row in df.iterrows():\n",
    "    count = count +1\n",
    "    city_params['address'] = row[0]\n",
    "    response = requests.get(city_url, params=city_params).json()\n"
   ]
  },
  {
   "cell_type": "code",
   "execution_count": null,
   "metadata": {
    "collapsed": true
   },
   "outputs": [],
   "source": [
    "# Save Data to csv\n",
    "\n",
    "\n",
    "# Visualize to confirm airport data appears"
   ]
  }
 ],
 "metadata": {
  "anaconda-cloud": {},
  "kernelspec": {
   "display_name": "Python 3",
   "language": "python",
   "name": "python3"
  },
  "language_info": {
   "codemirror_mode": {
    "name": "ipython",
    "version": 3
   },
   "file_extension": ".py",
   "mimetype": "text/x-python",
   "name": "python",
   "nbconvert_exporter": "python",
   "pygments_lexer": "ipython3",
   "version": "3.6.5"
  }
 },
 "nbformat": 4,
 "nbformat_minor": 1
}
