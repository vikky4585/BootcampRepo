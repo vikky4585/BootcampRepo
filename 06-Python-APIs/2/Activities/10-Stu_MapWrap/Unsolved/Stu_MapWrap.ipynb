{
 "cells": [
  {
   "cell_type": "code",
   "execution_count": 1,
   "metadata": {},
   "outputs": [],
   "source": [
    "# Dependencies\n",
    "import csv\n",
    "import matplotlib.pyplot as plt\n",
    "import openweathermapy as ow\n",
    "import pandas as pd\n",
    "import os\n",
    "\n",
    "# import api_key from config file\n",
    "from config import api_key"
   ]
  },
  {
   "cell_type": "code",
   "execution_count": 2,
   "metadata": {},
   "outputs": [],
   "source": [
    "# Create a settings object with your API key and preferred units\n",
    "settings = {'units': 'metrics', 'appid':api_key}"
   ]
  },
  {
   "cell_type": "code",
   "execution_count": 15,
   "metadata": {},
   "outputs": [
    {
     "name": "stdout",
     "output_type": "stream",
     "text": [
      "<class 'openweathermapy.utils.NestedDict'>\n",
      "<class 'openweathermapy.utils.NestedDict'>\n",
      "<class 'openweathermapy.utils.NestedDict'>\n",
      "<class 'openweathermapy.utils.NestedDict'>\n",
      "<class 'openweathermapy.utils.NestedDict'>\n",
      "<class 'openweathermapy.utils.NestedDict'>\n",
      "<class 'openweathermapy.utils.NestedDict'>\n",
      "<class 'openweathermapy.utils.NestedDict'>\n",
      "<class 'openweathermapy.utils.NestedDict'>\n",
      "<class 'openweathermapy.utils.NestedDict'>\n"
     ]
    }
   ],
   "source": [
    "# Get data for each city in cities.csv\n",
    "filepath = os.path.join(\"..\", \"Resources\", \"cities.csv\")\n",
    "cities=[]\n",
    "with open(filepath) as csvrecords:\n",
    "    records = csv.reader(csvrecords, delimiter=',')\n",
    "    for x in records:\n",
    "        cities.append(x[0])\n",
    "        \n",
    "lats = []\n",
    "lons = []\n",
    "temps = []\n",
    "for c in cities:\n",
    "    responses = ow.get_current(c, **settings)\n",
    "    print(type(responses))\n",
    "    lats.append( responses['coord']['lat'])\n",
    "    lons.append(responses['coord']['lon'])\n",
    "    temps.append(responses['main']['temp'])\n",
    "\n",
    "\n",
    "\n",
    "\n"
   ]
  },
  {
   "cell_type": "code",
   "execution_count": null,
   "metadata": {},
   "outputs": [],
   "source": [
    "# Create an \"extracts\" object to get the temperature, latitude,\n",
    "# and longitude in each city\n",
    "\n",
    "\n",
    "# Create a Pandas DataFrame with the results"
   ]
  }
 ],
 "metadata": {
  "kernelspec": {
   "display_name": "Python 3",
   "language": "python",
   "name": "python3"
  },
  "language_info": {
   "codemirror_mode": {
    "name": "ipython",
    "version": 3
   },
   "file_extension": ".py",
   "mimetype": "text/x-python",
   "name": "python",
   "nbconvert_exporter": "python",
   "pygments_lexer": "ipython3",
   "version": "3.6.5"
  },
  "varInspector": {
   "cols": {
    "lenName": 16,
    "lenType": 16,
    "lenVar": 40
   },
   "kernels_config": {
    "python": {
     "delete_cmd_postfix": "",
     "delete_cmd_prefix": "del ",
     "library": "var_list.py",
     "varRefreshCmd": "print(var_dic_list())"
    },
    "r": {
     "delete_cmd_postfix": ") ",
     "delete_cmd_prefix": "rm(",
     "library": "var_list.r",
     "varRefreshCmd": "cat(var_dic_list()) "
    }
   },
   "types_to_exclude": [
    "module",
    "function",
    "builtin_function_or_method",
    "instance",
    "_Feature"
   ],
   "window_display": false
  }
 },
 "nbformat": 4,
 "nbformat_minor": 2
}
