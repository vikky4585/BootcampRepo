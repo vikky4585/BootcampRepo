{
 "cells": [
  {
   "cell_type": "code",
   "execution_count": 1,
   "metadata": {},
   "outputs": [],
   "source": [
    "#Dependencies\n",
    "import requests\n",
    "import json\n",
    "import pandas as pd\n",
    "import numpy as np\n",
    "import matplotlib.pyplot as plt"
   ]
  },
  {
   "cell_type": "code",
   "execution_count": 18,
   "metadata": {},
   "outputs": [
    {
     "name": "stdout",
     "output_type": "stream",
     "text": [
      "[{'score': 45.82831, 'show': {'id': 12036, 'url': 'http://www.tvmaze.com/shows/12036/altered-carbon', 'name': 'Altered Carbon', 'type': 'Scripted', 'language': 'English', 'genres': ['Drama', 'Crime', 'Science-Fiction'], 'status': 'Running', 'runtime': 60, 'premiered': '2018-02-02', 'officialSite': 'https://www.netflix.com/title/80097140', 'schedule': {'time': '', 'days': ['Friday']}, 'rating': {'average': 8.1}, 'weight': 99, 'network': None, 'webChannel': {'id': 1, 'name': 'Netflix', 'country': None}, 'externals': {'tvrage': None, 'thetvdb': 332331, 'imdb': 'tt2261227'}, 'image': {'medium': 'http://static.tvmaze.com/uploads/images/medium_portrait/143/358572.jpg', 'original': 'http://static.tvmaze.com/uploads/images/original_untouched/143/358572.jpg'}, 'summary': \"<p><b>Altered Carbon</b> is set in the 25th century when the human mind has been digitized and the soul itself is transferable from one body to the next. Takeshi Kovacs, a former elite interstellar warrior known as an Envoy who has been imprisoned for 250 years, is downloaded into a future he'd tried to stop. If he can solve a single murder in a world where technology has made death nearly obsolete, he'll get a chance at a new life on Earth.</p>\", 'updated': 1532712321, '_links': {'self': {'href': 'http://api.tvmaze.com/shows/12036'}, 'previousepisode': {'href': 'http://api.tvmaze.com/episodes/1389603'}}}}]\n"
     ]
    },
    {
     "data": {
      "text/html": [
       "<div>\n",
       "<style scoped>\n",
       "    .dataframe tbody tr th:only-of-type {\n",
       "        vertical-align: middle;\n",
       "    }\n",
       "\n",
       "    .dataframe tbody tr th {\n",
       "        vertical-align: top;\n",
       "    }\n",
       "\n",
       "    .dataframe thead th {\n",
       "        text-align: right;\n",
       "    }\n",
       "</style>\n",
       "<table border=\"1\" class=\"dataframe\">\n",
       "  <thead>\n",
       "    <tr style=\"text-align: right;\">\n",
       "      <th></th>\n",
       "      <th>Name</th>\n",
       "      <th>Ratings</th>\n",
       "    </tr>\n",
       "  </thead>\n",
       "  <tbody>\n",
       "    <tr>\n",
       "      <th>0</th>\n",
       "      <td>Altered Carbon</td>\n",
       "      <td>8.1</td>\n",
       "    </tr>\n",
       "    <tr>\n",
       "      <th>1</th>\n",
       "      <td>Grey's Anatomy</td>\n",
       "      <td>8.2</td>\n",
       "    </tr>\n",
       "    <tr>\n",
       "      <th>2</th>\n",
       "      <td>This Is Us</td>\n",
       "      <td>8.1</td>\n",
       "    </tr>\n",
       "    <tr>\n",
       "      <th>3</th>\n",
       "      <td>The Flash</td>\n",
       "      <td>8.1</td>\n",
       "    </tr>\n",
       "    <tr>\n",
       "      <th>4</th>\n",
       "      <td>Vikings</td>\n",
       "      <td>8.9</td>\n",
       "    </tr>\n",
       "    <tr>\n",
       "      <th>5</th>\n",
       "      <td>Shameless</td>\n",
       "      <td>8.7</td>\n",
       "    </tr>\n",
       "    <tr>\n",
       "      <th>6</th>\n",
       "      <td>Arrow</td>\n",
       "      <td>7.6</td>\n",
       "    </tr>\n",
       "    <tr>\n",
       "      <th>7</th>\n",
       "      <td>Peaky Blinders</td>\n",
       "      <td>9.0</td>\n",
       "    </tr>\n",
       "    <tr>\n",
       "      <th>8</th>\n",
       "      <td>Dirk Gently</td>\n",
       "      <td>7.5</td>\n",
       "    </tr>\n",
       "  </tbody>\n",
       "</table>\n",
       "</div>"
      ],
      "text/plain": [
       "             Name  Ratings\n",
       "0  Altered Carbon      8.1\n",
       "1  Grey's Anatomy      8.2\n",
       "2      This Is Us      8.1\n",
       "3       The Flash      8.1\n",
       "4         Vikings      8.9\n",
       "5       Shameless      8.7\n",
       "6           Arrow      7.6\n",
       "7  Peaky Blinders      9.0\n",
       "8     Dirk Gently      7.5"
      ]
     },
     "execution_count": 18,
     "metadata": {},
     "output_type": "execute_result"
    }
   ],
   "source": [
    "#list of tv show titles to query\n",
    "tv_shows = [\"Altered Carbon\", \"Grey's Anatomy\", \"This is Us\", \"The Flash\", \"Vikings\", \"Shameless\", \"Arrow\", \"Peaky Blinders\", \"Dirk Gently\"]\n",
    "url = 'http://api.tvmaze.com/search/shows?q='\n",
    "\n",
    "response = requests.get(url + 'Altered Carbon').json()\n",
    "print(response)\n",
    "# make iterative requests to TVmaze search endpoint\n",
    "names = []\n",
    "ratings = []\n",
    "scores=[]\n",
    "for x in range(len(tv_shows)):\n",
    "    response = requests.get(url + '\\''+tv_shows[x]+ '\\'').json()\n",
    "\n",
    "    names.append(response[0]['show']['name'])\n",
    "    ratings.append(response[0]['show']['rating']['average'])\n",
    "    scores.append(response[0]['score'])\n",
    "\n",
    "\n",
    "df = pd.DataFrame({\n",
    "    'Name' : names,\n",
    "    'Ratings': ratings,\n",
    "})\n",
    "\n",
    "df\n",
    "    "
   ]
  },
  {
   "cell_type": "code",
   "execution_count": 3,
   "metadata": {},
   "outputs": [],
   "source": [
    "# create dataframe"
   ]
  },
  {
   "cell_type": "code",
   "execution_count": 21,
   "metadata": {},
   "outputs": [
    {
     "data": {
      "text/plain": [
       "<BarContainer object of 9 artists>"
      ]
     },
     "execution_count": 21,
     "metadata": {},
     "output_type": "execute_result"
    },
    {
     "data": {
      "image/png": "[encoded data removed]",
      "text/plain": [
       "<Figure size 432x288 with 1 Axes>"
      ]
     },
     "metadata": {},
     "output_type": "display_data"
    }
   ],
   "source": [
    "# use matplotlib to create a bar chart from the dataframe\n",
    "plt.bar(df['Name'],df['Ratings'])"
   ]
  },
  {
   "cell_type": "code",
   "execution_count": null,
   "metadata": {},
   "outputs": [],
   "source": []
  }
 ],
 "metadata": {
  "kernelspec": {
   "display_name": "Python 3",
   "language": "python",
   "name": "python3"
  },
  "language_info": {
   "codemirror_mode": {
    "name": "ipython",
    "version": 3
   },
   "file_extension": ".py",
   "mimetype": "text/x-python",
   "name": "python",
   "nbconvert_exporter": "python",
   "pygments_lexer": "ipython3",
   "version": "3.6.5"
  }
 },
 "nbformat": 4,
 "nbformat_minor": 2
}
