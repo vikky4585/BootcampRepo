{
 "cells": [
  {
   "cell_type": "code",
   "execution_count": 1,
   "metadata": {},
   "outputs": [],
   "source": [
    "# Dependencies\n",
    "import requests\n",
    "import json\n",
    "\n",
    "baseurl = \"http://www.omdbapi.com/?apikey=trilogy&t=\""
   ]
  },
  {
   "cell_type": "code",
   "execution_count": 2,
   "metadata": {},
   "outputs": [
    {
     "name": "stdout",
     "output_type": "stream",
     "text": [
      "Director of Aliens is James Cameron\n"
     ]
    }
   ],
   "source": [
    "# Who was the director of the movie Aliens?\n",
    "movie = 'Aliens'\n",
    "url = baseurl + movie\n",
    "response = requests.get(url).json()\n",
    "director = response['Director']\n",
    "print(f'Director of {movie} is {director}')"
   ]
  },
  {
   "cell_type": "code",
   "execution_count": 3,
   "metadata": {
    "scrolled": true
   },
   "outputs": [
    {
     "name": "stdout",
     "output_type": "stream",
     "text": [
      "Gladiator is rated R\n"
     ]
    }
   ],
   "source": [
    "# What was the movie Gladiator rated?\n",
    "movie = 'Gladiator'\n",
    "url = baseurl + movie\n",
    "response = requests.get(url).json()\n",
    "rated = response['Rated']\n",
    "print(f'{movie} is rated {rated}')"
   ]
  },
  {
   "cell_type": "code",
   "execution_count": 4,
   "metadata": {},
   "outputs": [
    {
     "name": "stdout",
     "output_type": "stream",
     "text": [
      "50 First Dates was released on 13 Feb 2004\n"
     ]
    }
   ],
   "source": [
    "# What year was 50 First Dates released?\n",
    "movie = '50 First Dates'\n",
    "url = baseurl + movie\n",
    "response = requests.get(url).json()\n",
    "yr = response['Released']\n",
    "print(f'{movie} was released on {yr}')"
   ]
  },
  {
   "cell_type": "code",
   "execution_count": 5,
   "metadata": {
    "scrolled": true
   },
   "outputs": [
    {
     "name": "stdout",
     "output_type": "stream",
     "text": [
      "Moana was written by Jared Bush (screenplay by), Ron Clements (story by), John Musker (story by), Chris Williams (story by), Don Hall (story by), Pamela Ribon (story by), Aaron Kandell (story by), Jordan Kandell (story by)\n"
     ]
    }
   ],
   "source": [
    "# Who wrote Moana?\n",
    "movie = 'Moana'\n",
    "url = baseurl + movie\n",
    "response = requests.get(url).json()\n",
    "writer = response['Writer']\n",
    "print(f'{movie} was written by {writer}')"
   ]
  },
  {
   "cell_type": "code",
   "execution_count": 6,
   "metadata": {
    "scrolled": true
   },
   "outputs": [
    {
     "name": "stdout",
     "output_type": "stream",
     "text": [
      "Sing plot is In a city of humanoid animals, a hustling theater impresario's attempt to save his theater with a singing competition becomes grander than he anticipates even as its finalists' find that their lives will never be the same.\n"
     ]
    }
   ],
   "source": [
    "# What was the plot of the movie Sing?\n",
    "movie = 'Sing'\n",
    "url = baseurl + movie\n",
    "response = requests.get(url).json()\n",
    "plot = response['Plot']\n",
    "print(f'{movie} plot is {plot}')"
   ]
  },
  {
   "cell_type": "code",
   "execution_count": null,
   "metadata": {},
   "outputs": [],
   "source": []
  }
 ],
 "metadata": {
  "kernelspec": {
   "display_name": "Python 3",
   "language": "python",
   "name": "python3"
  },
  "language_info": {
   "codemirror_mode": {
    "name": "ipython",
    "version": 3
   },
   "file_extension": ".py",
   "mimetype": "text/x-python",
   "name": "python",
   "nbconvert_exporter": "python",
   "pygments_lexer": "ipython3",
   "version": "3.6.5"
  },
  "varInspector": {
   "cols": {
    "lenName": 16,
    "lenType": 16,
    "lenVar": 40
   },
   "kernels_config": {
    "python": {
     "delete_cmd_postfix": "",
     "delete_cmd_prefix": "del ",
     "library": "var_list.py",
     "varRefreshCmd": "print(var_dic_list())"
    },
    "r": {
     "delete_cmd_postfix": ") ",
     "delete_cmd_prefix": "rm(",
     "library": "var_list.r",
     "varRefreshCmd": "cat(var_dic_list()) "
    }
   },
   "types_to_exclude": [
    "module",
    "function",
    "builtin_function_or_method",
    "instance",
    "_Feature"
   ],
   "window_display": false
  }
 },
 "nbformat": 4,
 "nbformat_minor": 2
}
