{
 "cells": [
  {
   "cell_type": "code",
   "execution_count": 7,
   "metadata": {},
   "outputs": [],
   "source": [
    "# Dependencies\n",
    "import requests\n",
    "import json"
   ]
  },
  {
   "cell_type": "code",
   "execution_count": 18,
   "metadata": {},
   "outputs": [
    {
     "data": {
      "text/plain": [
       "list"
      ]
     },
     "execution_count": 18,
     "metadata": {},
     "output_type": "execute_result"
    }
   ],
   "source": [
    "# URL for GET requests to retrieve vehicle data\n",
    "url = \"https://api.spacexdata.com/v2/launchpads\"\n",
    "response = requests.get(url).json()\n",
    "type(response)"
   ]
  },
  {
   "cell_type": "code",
   "execution_count": 20,
   "metadata": {},
   "outputs": [
    {
     "name": "stdout",
     "output_type": "stream",
     "text": [
      "{\n",
      "    \"details\": \"SpaceX original launch site, where all of the Falcon 1 launches occured. Abandoned as SpaceX decided against upgrading the pad to support Falcon 9.\",\n",
      "    \"full_name\": \"Kwajalein Atoll Omelek Island\",\n",
      "    \"id\": \"kwajalein_atoll\",\n",
      "    \"location\": {\n",
      "        \"latitude\": 9.0477206,\n",
      "        \"longitude\": 167.7431292,\n",
      "        \"name\": \"Omelek Island\",\n",
      "        \"region\": \"Marshall Islands\"\n",
      "    },\n",
      "    \"padid\": 1,\n",
      "    \"status\": \"retired\",\n",
      "    \"vehicles_launched\": [\n",
      "        \"Falcon 1\"\n",
      "    ]\n",
      "}\n"
     ]
    }
   ],
   "source": [
    "# Pretty print JSON for all launchpads\n",
    "\n",
    "out = json.dumps(response,indent=4,sort_keys=True)\n",
    "print(out)"
   ]
  },
  {
   "cell_type": "code",
   "execution_count": 19,
   "metadata": {},
   "outputs": [
    {
     "data": {
      "text/plain": [
       "'{\\n    \"details\": \"SpaceX original launch site, where all of the Falcon 1 launches occured. Abandoned as SpaceX decided against upgrading the pad to support Falcon 9.\",\\n    \"full_name\": \"Kwajalein Atoll Omelek Island\",\\n    \"id\": \"kwajalein_atoll\",\\n    \"location\": {\\n        \"latitude\": 9.0477206,\\n        \"longitude\": 167.7431292,\\n        \"name\": \"Omelek Island\",\\n        \"region\": \"Marshall Islands\"\\n    },\\n    \"padid\": 1,\\n    \"status\": \"retired\",\\n    \"vehicles_launched\": [\\n        \"Falcon 1\"\\n    ]\\n}'"
      ]
     },
     "execution_count": 19,
     "metadata": {},
     "output_type": "execute_result"
    }
   ],
   "source": [
    "# Pretty print JSON for a specific launchpad\n",
    "url = \"https://api.spacexdata.com/v2/launchpads/kwajalein_atoll\"\n",
    "response = requests.get(url).json()\n",
    "json.dumps(response,indent=4,sort_keys=True)"
   ]
  },
  {
   "cell_type": "code",
   "execution_count": null,
   "metadata": {},
   "outputs": [],
   "source": []
  }
 ],
 "metadata": {
  "kernelspec": {
   "display_name": "Python 3",
   "language": "python",
   "name": "python3"
  },
  "language_info": {
   "codemirror_mode": {
    "name": "ipython",
    "version": 3
   },
   "file_extension": ".py",
   "mimetype": "text/x-python",
   "name": "python",
   "nbconvert_exporter": "python",
   "pygments_lexer": "ipython3",
   "version": "3.6.5"
  },
  "varInspector": {
   "cols": {
    "lenName": 16,
    "lenType": 16,
    "lenVar": 40
   },
   "kernels_config": {
    "python": {
     "delete_cmd_postfix": "",
     "delete_cmd_prefix": "del ",
     "library": "var_list.py",
     "varRefreshCmd": "print(var_dic_list())"
    },
    "r": {
     "delete_cmd_postfix": ") ",
     "delete_cmd_prefix": "rm(",
     "library": "var_list.r",
     "varRefreshCmd": "cat(var_dic_list()) "
    }
   },
   "types_to_exclude": [
    "module",
    "function",
    "builtin_function_or_method",
    "instance",
    "_Feature"
   ],
   "window_display": false
  }
 },
 "nbformat": 4,
 "nbformat_minor": 2
}
